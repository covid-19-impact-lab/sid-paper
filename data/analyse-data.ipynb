{
 "metadata": {
  "language_info": {
   "codemirror_mode": {
    "name": "ipython",
    "version": 3
   },
   "file_extension": ".py",
   "mimetype": "text/x-python",
   "name": "python",
   "nbconvert_exporter": "python",
   "pygments_lexer": "ipython3",
   "version": "3.7.10"
  },
  "orig_nbformat": 2,
  "kernelspec": {
   "name": "python379jvsc74a57bd02b260c2df92c3a2ab9dcbca80fa14df5808685a14f8898a0008330ef80dd47dd",
   "display_name": "Python 3.7.10 64-bit ('liss-data': conda)"
  },
  "metadata": {
   "interpreter": {
    "hash": "2b260c2df92c3a2ab9dcbca80fa14df5808685a14f8898a0008330ef80dd47dd"
   }
  }
 },
 "nbformat": 4,
 "nbformat_minor": 2,
 "cells": [
  {
   "cell_type": "code",
   "execution_count": 18,
   "metadata": {},
   "outputs": [],
   "source": [
    "import pandas as pd\n",
    "import numpy as np\n",
    "from scipy.stats import gmean\n",
    "\n",
    "pd.set_option(\"display.max_rows\", 1000)"
   ]
  },
  {
   "cell_type": "code",
   "execution_count": 2,
   "metadata": {},
   "outputs": [
    {
     "output_type": "execute_result",
     "data": {
      "text/plain": [
       "            new_known_case  newly_deceased  share_ever_rapid_test  \\\n",
       "date                                                                \n",
       "2020-02-09           0.051             0.0                    NaN   \n",
       "2020-02-10           0.080             0.0                    NaN   \n",
       "2020-02-11           0.079             0.0                    NaN   \n",
       "2020-02-12           0.067             0.0                    NaN   \n",
       "2020-02-13           0.061             0.0                    NaN   \n",
       "\n",
       "            share_rapid_test_in_last_week  share_b117  ever_vaccinated  \\\n",
       "date                                                                     \n",
       "2020-02-09                            NaN         NaN              NaN   \n",
       "2020-02-10                            NaN         NaN              NaN   \n",
       "2020-02-11                            NaN         NaN              NaN   \n",
       "2020-02-12                            NaN         NaN              NaN   \n",
       "2020-02-13                            NaN         NaN              NaN   \n",
       "\n",
       "            r_effective  \n",
       "date                     \n",
       "2020-02-09          NaN  \n",
       "2020-02-10          NaN  \n",
       "2020-02-11          NaN  \n",
       "2020-02-12          NaN  \n",
       "2020-02-13          NaN  "
      ],
      "text/html": "<div>\n<style scoped>\n    .dataframe tbody tr th:only-of-type {\n        vertical-align: middle;\n    }\n\n    .dataframe tbody tr th {\n        vertical-align: top;\n    }\n\n    .dataframe thead th {\n        text-align: right;\n    }\n</style>\n<table border=\"1\" class=\"dataframe\">\n  <thead>\n    <tr style=\"text-align: right;\">\n      <th></th>\n      <th>new_known_case</th>\n      <th>newly_deceased</th>\n      <th>share_ever_rapid_test</th>\n      <th>share_rapid_test_in_last_week</th>\n      <th>share_b117</th>\n      <th>ever_vaccinated</th>\n      <th>r_effective</th>\n    </tr>\n    <tr>\n      <th>date</th>\n      <th></th>\n      <th></th>\n      <th></th>\n      <th></th>\n      <th></th>\n      <th></th>\n      <th></th>\n    </tr>\n  </thead>\n  <tbody>\n    <tr>\n      <th>2020-02-09</th>\n      <td>0.051</td>\n      <td>0.0</td>\n      <td>NaN</td>\n      <td>NaN</td>\n      <td>NaN</td>\n      <td>NaN</td>\n      <td>NaN</td>\n    </tr>\n    <tr>\n      <th>2020-02-10</th>\n      <td>0.080</td>\n      <td>0.0</td>\n      <td>NaN</td>\n      <td>NaN</td>\n      <td>NaN</td>\n      <td>NaN</td>\n      <td>NaN</td>\n    </tr>\n    <tr>\n      <th>2020-02-11</th>\n      <td>0.079</td>\n      <td>0.0</td>\n      <td>NaN</td>\n      <td>NaN</td>\n      <td>NaN</td>\n      <td>NaN</td>\n      <td>NaN</td>\n    </tr>\n    <tr>\n      <th>2020-02-12</th>\n      <td>0.067</td>\n      <td>0.0</td>\n      <td>NaN</td>\n      <td>NaN</td>\n      <td>NaN</td>\n      <td>NaN</td>\n      <td>NaN</td>\n    </tr>\n    <tr>\n      <th>2020-02-13</th>\n      <td>0.061</td>\n      <td>0.0</td>\n      <td>NaN</td>\n      <td>NaN</td>\n      <td>NaN</td>\n      <td>NaN</td>\n      <td>NaN</td>\n    </tr>\n  </tbody>\n</table>\n</div>"
     },
     "metadata": {},
     "execution_count": 2
    }
   ],
   "source": [
    "emp = pd.read_csv(\"../figures/results/tables/empirical_analogues.csv\")\n",
    "emp[\"date\"] = pd.to_datetime(emp[\"date\"], format=\"%Y-%m-%d\")\n",
    "emp = emp.set_index(\"date\")\n",
    "emp.head()"
   ]
  },
  {
   "cell_type": "code",
   "execution_count": 3,
   "metadata": {},
   "outputs": [
    {
     "output_type": "execute_result",
     "data": {
      "text/plain": [
       "<AxesSubplot:xlabel='date'>"
      ]
     },
     "metadata": {},
     "execution_count": 3
    },
    {
     "output_type": "display_data",
     "data": {
      "text/plain": "<Figure size 432x288 with 1 Axes>",
      "image/svg+xml": "<?xml version=\"1.0\" encoding=\"utf-8\" standalone=\"no\"?>\n<!DOCTYPE svg PUBLIC \"-//W3C//DTD SVG 1.1//EN\"\n  \"http://www.w3.org/Graphics/SVG/1.1/DTD/svg11.dtd\">\n<svg height=\"297.725039pt\" version=\"1.1\" viewBox=\"0 0 376.726471 297.725039\" width=\"376.726471pt\" xmlns=\"http://www.w3.org/2000/svg\" xmlns:xlink=\"http://www.w3.org/1999/xlink\">\n <metadata>\n  <rdf:RDF xmlns:cc=\"http://creativecommons.org/ns#\" xmlns:dc=\"http://purl.org/dc/elements/1.1/\" xmlns:rdf=\"http://www.w3.org/1999/02/22-rdf-syntax-ns#\">\n   <cc:Work>\n    <dc:type rdf:resource=\"http://purl.org/dc/dcmitype/StillImage\"/>\n    <dc:date>2021-06-10T15:28:24.036639</dc:date>\n    <dc:format>image/svg+xml</dc:format>\n    <dc:creator>\n     <cc:Agent>\n      <dc:title>Matplotlib v3.4.2, https://matplotlib.org/</dc:title>\n     </cc:Agent>\n    </dc:creator>\n   </cc:Work>\n  </rdf:RDF>\n </metadata>\n <defs>\n  <style type=\"text/css\">*{stroke-linecap:butt;stroke-linejoin:round;}</style>\n </defs>\n <g id=\"figure_1\">\n  <g id=\"patch_1\">\n   <path d=\"M 0 297.725039 \nL 376.726471 297.725039 \nL 376.726471 0 \nL 0 0 \nz\n\" style=\"fill:none;\"/>\n  </g>\n  <g id=\"axes_1\">\n   <g id=\"patch_2\">\n    <path d=\"M 33.2875 226.575351 \nL 368.0875 226.575351 \nL 368.0875 9.135351 \nL 33.2875 9.135351 \nz\n\" style=\"fill:#ffffff;\"/>\n   </g>\n   <g id=\"matplotlib.axis_1\">\n    <g id=\"xtick_1\">\n     <g id=\"line2d_1\">\n      <defs>\n       <path d=\"M 0 0 \nL 0 3.5 \n\" id=\"m04a50c3e0c\" style=\"stroke:#000000;stroke-width:0.8;\"/>\n      </defs>\n      <g>\n       <use style=\"stroke:#000000;stroke-width:0.8;\" x=\"33.2875\" xlink:href=\"#m04a50c3e0c\" y=\"226.575351\"/>\n      </g>\n     </g>\n     <g id=\"text_1\">\n      <!--  -->\n      <g transform=\"translate(33.2875 241.173789)scale(0.1 -0.1)\"/>\n      <!--  -->\n      <g transform=\"translate(33.2875 252.371601)scale(0.1 -0.1)\"/>\n      <!-- Apr -->\n      <g transform=\"translate(24.6375 263.569414)scale(0.1 -0.1)\">\n       <defs>\n        <path d=\"M 2188 4044 \nL 1331 1722 \nL 3047 1722 \nL 2188 4044 \nz\nM 1831 4666 \nL 2547 4666 \nL 4325 0 \nL 3669 0 \nL 3244 1197 \nL 1141 1197 \nL 716 0 \nL 50 0 \nL 1831 4666 \nz\n\" id=\"DejaVuSans-41\" transform=\"scale(0.015625)\"/>\n        <path d=\"M 1159 525 \nL 1159 -1331 \nL 581 -1331 \nL 581 3500 \nL 1159 3500 \nL 1159 2969 \nQ 1341 3281 1617 3432 \nQ 1894 3584 2278 3584 \nQ 2916 3584 3314 3078 \nQ 3713 2572 3713 1747 \nQ 3713 922 3314 415 \nQ 2916 -91 2278 -91 \nQ 1894 -91 1617 61 \nQ 1341 213 1159 525 \nz\nM 3116 1747 \nQ 3116 2381 2855 2742 \nQ 2594 3103 2138 3103 \nQ 1681 3103 1420 2742 \nQ 1159 2381 1159 1747 \nQ 1159 1113 1420 752 \nQ 1681 391 2138 391 \nQ 2594 391 2855 752 \nQ 3116 1113 3116 1747 \nz\n\" id=\"DejaVuSans-70\" transform=\"scale(0.015625)\"/>\n        <path d=\"M 2631 2963 \nQ 2534 3019 2420 3045 \nQ 2306 3072 2169 3072 \nQ 1681 3072 1420 2755 \nQ 1159 2438 1159 1844 \nL 1159 0 \nL 581 0 \nL 581 3500 \nL 1159 3500 \nL 1159 2956 \nQ 1341 3275 1631 3429 \nQ 1922 3584 2338 3584 \nQ 2397 3584 2469 3576 \nQ 2541 3569 2628 3553 \nL 2631 2963 \nz\n\" id=\"DejaVuSans-72\" transform=\"scale(0.015625)\"/>\n       </defs>\n       <use xlink:href=\"#DejaVuSans-41\"/>\n       <use x=\"68.408203\" xlink:href=\"#DejaVuSans-70\"/>\n       <use x=\"131.884766\" xlink:href=\"#DejaVuSans-72\"/>\n      </g>\n      <!-- 2021 -->\n      <g transform=\"translate(20.5625 274.767226)scale(0.1 -0.1)\">\n       <defs>\n        <path d=\"M 1228 531 \nL 3431 531 \nL 3431 0 \nL 469 0 \nL 469 531 \nQ 828 903 1448 1529 \nQ 2069 2156 2228 2338 \nQ 2531 2678 2651 2914 \nQ 2772 3150 2772 3378 \nQ 2772 3750 2511 3984 \nQ 2250 4219 1831 4219 \nQ 1534 4219 1204 4116 \nQ 875 4013 500 3803 \nL 500 4441 \nQ 881 4594 1212 4672 \nQ 1544 4750 1819 4750 \nQ 2544 4750 2975 4387 \nQ 3406 4025 3406 3419 \nQ 3406 3131 3298 2873 \nQ 3191 2616 2906 2266 \nQ 2828 2175 2409 1742 \nQ 1991 1309 1228 531 \nz\n\" id=\"DejaVuSans-32\" transform=\"scale(0.015625)\"/>\n        <path d=\"M 2034 4250 \nQ 1547 4250 1301 3770 \nQ 1056 3291 1056 2328 \nQ 1056 1369 1301 889 \nQ 1547 409 2034 409 \nQ 2525 409 2770 889 \nQ 3016 1369 3016 2328 \nQ 3016 3291 2770 3770 \nQ 2525 4250 2034 4250 \nz\nM 2034 4750 \nQ 2819 4750 3233 4129 \nQ 3647 3509 3647 2328 \nQ 3647 1150 3233 529 \nQ 2819 -91 2034 -91 \nQ 1250 -91 836 529 \nQ 422 1150 422 2328 \nQ 422 3509 836 4129 \nQ 1250 4750 2034 4750 \nz\n\" id=\"DejaVuSans-30\" transform=\"scale(0.015625)\"/>\n        <path d=\"M 794 531 \nL 1825 531 \nL 1825 4091 \nL 703 3866 \nL 703 4441 \nL 1819 4666 \nL 2450 4666 \nL 2450 531 \nL 3481 531 \nL 3481 0 \nL 794 0 \nL 794 531 \nz\n\" id=\"DejaVuSans-31\" transform=\"scale(0.015625)\"/>\n       </defs>\n       <use xlink:href=\"#DejaVuSans-32\"/>\n       <use x=\"63.623047\" xlink:href=\"#DejaVuSans-30\"/>\n       <use x=\"127.246094\" xlink:href=\"#DejaVuSans-32\"/>\n       <use x=\"190.869141\" xlink:href=\"#DejaVuSans-31\"/>\n      </g>\n     </g>\n    </g>\n    <g id=\"xtick_2\">\n     <g id=\"line2d_2\">\n      <g>\n       <use style=\"stroke:#000000;stroke-width:0.8;\" x=\"180.993382\" xlink:href=\"#m04a50c3e0c\" y=\"226.575351\"/>\n      </g>\n     </g>\n     <g id=\"text_2\">\n      <!--  -->\n      <g transform=\"translate(180.993382 241.173789)scale(0.1 -0.1)\"/>\n      <!--  -->\n      <g transform=\"translate(180.993382 252.371601)scale(0.1 -0.1)\"/>\n      <!-- May -->\n      <g transform=\"translate(170.655882 263.569414)scale(0.1 -0.1)\">\n       <defs>\n        <path d=\"M 628 4666 \nL 1569 4666 \nL 2759 1491 \nL 3956 4666 \nL 4897 4666 \nL 4897 0 \nL 4281 0 \nL 4281 4097 \nL 3078 897 \nL 2444 897 \nL 1241 4097 \nL 1241 0 \nL 628 0 \nL 628 4666 \nz\n\" id=\"DejaVuSans-4d\" transform=\"scale(0.015625)\"/>\n        <path d=\"M 2194 1759 \nQ 1497 1759 1228 1600 \nQ 959 1441 959 1056 \nQ 959 750 1161 570 \nQ 1363 391 1709 391 \nQ 2188 391 2477 730 \nQ 2766 1069 2766 1631 \nL 2766 1759 \nL 2194 1759 \nz\nM 3341 1997 \nL 3341 0 \nL 2766 0 \nL 2766 531 \nQ 2569 213 2275 61 \nQ 1981 -91 1556 -91 \nQ 1019 -91 701 211 \nQ 384 513 384 1019 \nQ 384 1609 779 1909 \nQ 1175 2209 1959 2209 \nL 2766 2209 \nL 2766 2266 \nQ 2766 2663 2505 2880 \nQ 2244 3097 1772 3097 \nQ 1472 3097 1187 3025 \nQ 903 2953 641 2809 \nL 641 3341 \nQ 956 3463 1253 3523 \nQ 1550 3584 1831 3584 \nQ 2591 3584 2966 3190 \nQ 3341 2797 3341 1997 \nz\n\" id=\"DejaVuSans-61\" transform=\"scale(0.015625)\"/>\n        <path d=\"M 2059 -325 \nQ 1816 -950 1584 -1140 \nQ 1353 -1331 966 -1331 \nL 506 -1331 \nL 506 -850 \nL 844 -850 \nQ 1081 -850 1212 -737 \nQ 1344 -625 1503 -206 \nL 1606 56 \nL 191 3500 \nL 800 3500 \nL 1894 763 \nL 2988 3500 \nL 3597 3500 \nL 2059 -325 \nz\n\" id=\"DejaVuSans-79\" transform=\"scale(0.015625)\"/>\n       </defs>\n       <use xlink:href=\"#DejaVuSans-4d\"/>\n       <use x=\"86.279297\" xlink:href=\"#DejaVuSans-61\"/>\n       <use x=\"147.558594\" xlink:href=\"#DejaVuSans-79\"/>\n      </g>\n     </g>\n    </g>\n    <g id=\"xtick_3\">\n     <g id=\"line2d_3\">\n      <g>\n       <use style=\"stroke:#000000;stroke-width:0.8;\" x=\"333.622794\" xlink:href=\"#m04a50c3e0c\" y=\"226.575351\"/>\n      </g>\n     </g>\n     <g id=\"text_3\">\n      <!--  -->\n      <g transform=\"translate(333.622794 241.173789)scale(0.1 -0.1)\"/>\n      <!--  -->\n      <g transform=\"translate(333.622794 252.371601)scale(0.1 -0.1)\"/>\n      <!-- Jun -->\n      <g transform=\"translate(325.810294 263.569414)scale(0.1 -0.1)\">\n       <defs>\n        <path d=\"M 628 4666 \nL 1259 4666 \nL 1259 325 \nQ 1259 -519 939 -900 \nQ 619 -1281 -91 -1281 \nL -331 -1281 \nL -331 -750 \nL -134 -750 \nQ 284 -750 456 -515 \nQ 628 -281 628 325 \nL 628 4666 \nz\n\" id=\"DejaVuSans-4a\" transform=\"scale(0.015625)\"/>\n        <path d=\"M 544 1381 \nL 544 3500 \nL 1119 3500 \nL 1119 1403 \nQ 1119 906 1312 657 \nQ 1506 409 1894 409 \nQ 2359 409 2629 706 \nQ 2900 1003 2900 1516 \nL 2900 3500 \nL 3475 3500 \nL 3475 0 \nL 2900 0 \nL 2900 538 \nQ 2691 219 2414 64 \nQ 2138 -91 1772 -91 \nQ 1169 -91 856 284 \nQ 544 659 544 1381 \nz\nM 1991 3584 \nL 1991 3584 \nz\n\" id=\"DejaVuSans-75\" transform=\"scale(0.015625)\"/>\n        <path d=\"M 3513 2113 \nL 3513 0 \nL 2938 0 \nL 2938 2094 \nQ 2938 2591 2744 2837 \nQ 2550 3084 2163 3084 \nQ 1697 3084 1428 2787 \nQ 1159 2491 1159 1978 \nL 1159 0 \nL 581 0 \nL 581 3500 \nL 1159 3500 \nL 1159 2956 \nQ 1366 3272 1645 3428 \nQ 1925 3584 2291 3584 \nQ 2894 3584 3203 3211 \nQ 3513 2838 3513 2113 \nz\n\" id=\"DejaVuSans-6e\" transform=\"scale(0.015625)\"/>\n       </defs>\n       <use xlink:href=\"#DejaVuSans-4a\"/>\n       <use x=\"29.492188\" xlink:href=\"#DejaVuSans-75\"/>\n       <use x=\"92.871094\" xlink:href=\"#DejaVuSans-6e\"/>\n      </g>\n     </g>\n    </g>\n    <g id=\"xtick_4\">\n     <g id=\"line2d_4\">\n      <g>\n       <use style=\"stroke:#000000;stroke-width:0.8;\" x=\"368.0875\" xlink:href=\"#m04a50c3e0c\" y=\"226.575351\"/>\n      </g>\n     </g>\n    </g>\n    <g id=\"xtick_5\">\n     <g id=\"line2d_5\">\n      <defs>\n       <path d=\"M 0 0 \nL 0 2 \n\" id=\"m4f3f5aa315\" style=\"stroke:#000000;stroke-width:0.6;\"/>\n      </defs>\n      <g>\n       <use style=\"stroke:#000000;stroke-width:0.6;\" x=\"38.211029\" xlink:href=\"#m4f3f5aa315\" y=\"226.575351\"/>\n      </g>\n     </g>\n    </g>\n    <g id=\"xtick_6\">\n     <g id=\"line2d_6\">\n      <g>\n       <use style=\"stroke:#000000;stroke-width:0.6;\" x=\"43.134559\" xlink:href=\"#m4f3f5aa315\" y=\"226.575351\"/>\n      </g>\n     </g>\n    </g>\n    <g id=\"xtick_7\">\n     <g id=\"line2d_7\">\n      <g>\n       <use style=\"stroke:#000000;stroke-width:0.6;\" x=\"48.058088\" xlink:href=\"#m4f3f5aa315\" y=\"226.575351\"/>\n      </g>\n     </g>\n    </g>\n    <g id=\"xtick_8\">\n     <g id=\"line2d_8\">\n      <g>\n       <use style=\"stroke:#000000;stroke-width:0.6;\" x=\"52.981618\" xlink:href=\"#m4f3f5aa315\" y=\"226.575351\"/>\n      </g>\n     </g>\n     <g id=\"text_4\">\n      <!-- 05 -->\n      <g transform=\"translate(46.619118 239.573789)scale(0.1 -0.1)\">\n       <defs>\n        <path d=\"M 691 4666 \nL 3169 4666 \nL 3169 4134 \nL 1269 4134 \nL 1269 2991 \nQ 1406 3038 1543 3061 \nQ 1681 3084 1819 3084 \nQ 2600 3084 3056 2656 \nQ 3513 2228 3513 1497 \nQ 3513 744 3044 326 \nQ 2575 -91 1722 -91 \nQ 1428 -91 1123 -41 \nQ 819 9 494 109 \nL 494 744 \nQ 775 591 1075 516 \nQ 1375 441 1709 441 \nQ 2250 441 2565 725 \nQ 2881 1009 2881 1497 \nQ 2881 1984 2565 2268 \nQ 2250 2553 1709 2553 \nQ 1456 2553 1204 2497 \nQ 953 2441 691 2322 \nL 691 4666 \nz\n\" id=\"DejaVuSans-35\" transform=\"scale(0.015625)\"/>\n       </defs>\n       <use xlink:href=\"#DejaVuSans-30\"/>\n       <use x=\"63.623047\" xlink:href=\"#DejaVuSans-35\"/>\n      </g>\n     </g>\n    </g>\n    <g id=\"xtick_9\">\n     <g id=\"line2d_9\">\n      <g>\n       <use style=\"stroke:#000000;stroke-width:0.6;\" x=\"57.905147\" xlink:href=\"#m4f3f5aa315\" y=\"226.575351\"/>\n      </g>\n     </g>\n    </g>\n    <g id=\"xtick_10\">\n     <g id=\"line2d_10\">\n      <g>\n       <use style=\"stroke:#000000;stroke-width:0.6;\" x=\"62.828676\" xlink:href=\"#m4f3f5aa315\" y=\"226.575351\"/>\n      </g>\n     </g>\n    </g>\n    <g id=\"xtick_11\">\n     <g id=\"line2d_11\">\n      <g>\n       <use style=\"stroke:#000000;stroke-width:0.6;\" x=\"67.752206\" xlink:href=\"#m4f3f5aa315\" y=\"226.575351\"/>\n      </g>\n     </g>\n    </g>\n    <g id=\"xtick_12\">\n     <g id=\"line2d_12\">\n      <g>\n       <use style=\"stroke:#000000;stroke-width:0.6;\" x=\"72.675735\" xlink:href=\"#m4f3f5aa315\" y=\"226.575351\"/>\n      </g>\n     </g>\n    </g>\n    <g id=\"xtick_13\">\n     <g id=\"line2d_13\">\n      <g>\n       <use style=\"stroke:#000000;stroke-width:0.6;\" x=\"77.599265\" xlink:href=\"#m4f3f5aa315\" y=\"226.575351\"/>\n      </g>\n     </g>\n    </g>\n    <g id=\"xtick_14\">\n     <g id=\"line2d_14\">\n      <g>\n       <use style=\"stroke:#000000;stroke-width:0.6;\" x=\"82.522794\" xlink:href=\"#m4f3f5aa315\" y=\"226.575351\"/>\n      </g>\n     </g>\n    </g>\n    <g id=\"xtick_15\">\n     <g id=\"line2d_15\">\n      <g>\n       <use style=\"stroke:#000000;stroke-width:0.6;\" x=\"87.446324\" xlink:href=\"#m4f3f5aa315\" y=\"226.575351\"/>\n      </g>\n     </g>\n     <g id=\"text_5\">\n      <!-- 12 -->\n      <g transform=\"translate(81.083824 239.573789)scale(0.1 -0.1)\">\n       <use xlink:href=\"#DejaVuSans-31\"/>\n       <use x=\"63.623047\" xlink:href=\"#DejaVuSans-32\"/>\n      </g>\n     </g>\n    </g>\n    <g id=\"xtick_16\">\n     <g id=\"line2d_16\">\n      <g>\n       <use style=\"stroke:#000000;stroke-width:0.6;\" x=\"92.369853\" xlink:href=\"#m4f3f5aa315\" y=\"226.575351\"/>\n      </g>\n     </g>\n    </g>\n    <g id=\"xtick_17\">\n     <g id=\"line2d_17\">\n      <g>\n       <use style=\"stroke:#000000;stroke-width:0.6;\" x=\"97.293382\" xlink:href=\"#m4f3f5aa315\" y=\"226.575351\"/>\n      </g>\n     </g>\n    </g>\n    <g id=\"xtick_18\">\n     <g id=\"line2d_18\">\n      <g>\n       <use style=\"stroke:#000000;stroke-width:0.6;\" x=\"102.216912\" xlink:href=\"#m4f3f5aa315\" y=\"226.575351\"/>\n      </g>\n     </g>\n    </g>\n    <g id=\"xtick_19\">\n     <g id=\"line2d_19\">\n      <g>\n       <use style=\"stroke:#000000;stroke-width:0.6;\" x=\"107.140441\" xlink:href=\"#m4f3f5aa315\" y=\"226.575351\"/>\n      </g>\n     </g>\n    </g>\n    <g id=\"xtick_20\">\n     <g id=\"line2d_20\">\n      <g>\n       <use style=\"stroke:#000000;stroke-width:0.6;\" x=\"112.063971\" xlink:href=\"#m4f3f5aa315\" y=\"226.575351\"/>\n      </g>\n     </g>\n    </g>\n    <g id=\"xtick_21\">\n     <g id=\"line2d_21\">\n      <g>\n       <use style=\"stroke:#000000;stroke-width:0.6;\" x=\"116.9875\" xlink:href=\"#m4f3f5aa315\" y=\"226.575351\"/>\n      </g>\n     </g>\n    </g>\n    <g id=\"xtick_22\">\n     <g id=\"line2d_22\">\n      <g>\n       <use style=\"stroke:#000000;stroke-width:0.6;\" x=\"121.911029\" xlink:href=\"#m4f3f5aa315\" y=\"226.575351\"/>\n      </g>\n     </g>\n     <g id=\"text_6\">\n      <!-- 19 -->\n      <g transform=\"translate(115.548529 239.573789)scale(0.1 -0.1)\">\n       <defs>\n        <path d=\"M 703 97 \nL 703 672 \nQ 941 559 1184 500 \nQ 1428 441 1663 441 \nQ 2288 441 2617 861 \nQ 2947 1281 2994 2138 \nQ 2813 1869 2534 1725 \nQ 2256 1581 1919 1581 \nQ 1219 1581 811 2004 \nQ 403 2428 403 3163 \nQ 403 3881 828 4315 \nQ 1253 4750 1959 4750 \nQ 2769 4750 3195 4129 \nQ 3622 3509 3622 2328 \nQ 3622 1225 3098 567 \nQ 2575 -91 1691 -91 \nQ 1453 -91 1209 -44 \nQ 966 3 703 97 \nz\nM 1959 2075 \nQ 2384 2075 2632 2365 \nQ 2881 2656 2881 3163 \nQ 2881 3666 2632 3958 \nQ 2384 4250 1959 4250 \nQ 1534 4250 1286 3958 \nQ 1038 3666 1038 3163 \nQ 1038 2656 1286 2365 \nQ 1534 2075 1959 2075 \nz\n\" id=\"DejaVuSans-39\" transform=\"scale(0.015625)\"/>\n       </defs>\n       <use xlink:href=\"#DejaVuSans-31\"/>\n       <use x=\"63.623047\" xlink:href=\"#DejaVuSans-39\"/>\n      </g>\n     </g>\n    </g>\n    <g id=\"xtick_23\">\n     <g id=\"line2d_23\">\n      <g>\n       <use style=\"stroke:#000000;stroke-width:0.6;\" x=\"126.834559\" xlink:href=\"#m4f3f5aa315\" y=\"226.575351\"/>\n      </g>\n     </g>\n    </g>\n    <g id=\"xtick_24\">\n     <g id=\"line2d_24\">\n      <g>\n       <use style=\"stroke:#000000;stroke-width:0.6;\" x=\"131.758088\" xlink:href=\"#m4f3f5aa315\" y=\"226.575351\"/>\n      </g>\n     </g>\n    </g>\n    <g id=\"xtick_25\">\n     <g id=\"line2d_25\">\n      <g>\n       <use style=\"stroke:#000000;stroke-width:0.6;\" x=\"136.681618\" xlink:href=\"#m4f3f5aa315\" y=\"226.575351\"/>\n      </g>\n     </g>\n    </g>\n    <g id=\"xtick_26\">\n     <g id=\"line2d_26\">\n      <g>\n       <use style=\"stroke:#000000;stroke-width:0.6;\" x=\"141.605147\" xlink:href=\"#m4f3f5aa315\" y=\"226.575351\"/>\n      </g>\n     </g>\n    </g>\n    <g id=\"xtick_27\">\n     <g id=\"line2d_27\">\n      <g>\n       <use style=\"stroke:#000000;stroke-width:0.6;\" x=\"146.528676\" xlink:href=\"#m4f3f5aa315\" y=\"226.575351\"/>\n      </g>\n     </g>\n    </g>\n    <g id=\"xtick_28\">\n     <g id=\"line2d_28\">\n      <g>\n       <use style=\"stroke:#000000;stroke-width:0.6;\" x=\"151.452206\" xlink:href=\"#m4f3f5aa315\" y=\"226.575351\"/>\n      </g>\n     </g>\n    </g>\n    <g id=\"xtick_29\">\n     <g id=\"line2d_29\">\n      <g>\n       <use style=\"stroke:#000000;stroke-width:0.6;\" x=\"156.375735\" xlink:href=\"#m4f3f5aa315\" y=\"226.575351\"/>\n      </g>\n     </g>\n     <g id=\"text_7\">\n      <!-- 26 -->\n      <g transform=\"translate(150.013235 239.573789)scale(0.1 -0.1)\">\n       <defs>\n        <path d=\"M 2113 2584 \nQ 1688 2584 1439 2293 \nQ 1191 2003 1191 1497 \nQ 1191 994 1439 701 \nQ 1688 409 2113 409 \nQ 2538 409 2786 701 \nQ 3034 994 3034 1497 \nQ 3034 2003 2786 2293 \nQ 2538 2584 2113 2584 \nz\nM 3366 4563 \nL 3366 3988 \nQ 3128 4100 2886 4159 \nQ 2644 4219 2406 4219 \nQ 1781 4219 1451 3797 \nQ 1122 3375 1075 2522 \nQ 1259 2794 1537 2939 \nQ 1816 3084 2150 3084 \nQ 2853 3084 3261 2657 \nQ 3669 2231 3669 1497 \nQ 3669 778 3244 343 \nQ 2819 -91 2113 -91 \nQ 1303 -91 875 529 \nQ 447 1150 447 2328 \nQ 447 3434 972 4092 \nQ 1497 4750 2381 4750 \nQ 2619 4750 2861 4703 \nQ 3103 4656 3366 4563 \nz\n\" id=\"DejaVuSans-36\" transform=\"scale(0.015625)\"/>\n       </defs>\n       <use xlink:href=\"#DejaVuSans-32\"/>\n       <use x=\"63.623047\" xlink:href=\"#DejaVuSans-36\"/>\n      </g>\n     </g>\n    </g>\n    <g id=\"xtick_30\">\n     <g id=\"line2d_30\">\n      <g>\n       <use style=\"stroke:#000000;stroke-width:0.6;\" x=\"161.299265\" xlink:href=\"#m4f3f5aa315\" y=\"226.575351\"/>\n      </g>\n     </g>\n    </g>\n    <g id=\"xtick_31\">\n     <g id=\"line2d_31\">\n      <g>\n       <use style=\"stroke:#000000;stroke-width:0.6;\" x=\"166.222794\" xlink:href=\"#m4f3f5aa315\" y=\"226.575351\"/>\n      </g>\n     </g>\n    </g>\n    <g id=\"xtick_32\">\n     <g id=\"line2d_32\">\n      <g>\n       <use style=\"stroke:#000000;stroke-width:0.6;\" x=\"171.146324\" xlink:href=\"#m4f3f5aa315\" y=\"226.575351\"/>\n      </g>\n     </g>\n    </g>\n    <g id=\"xtick_33\">\n     <g id=\"line2d_33\">\n      <g>\n       <use style=\"stroke:#000000;stroke-width:0.6;\" x=\"176.069853\" xlink:href=\"#m4f3f5aa315\" y=\"226.575351\"/>\n      </g>\n     </g>\n    </g>\n    <g id=\"xtick_34\">\n     <g id=\"line2d_34\">\n      <g>\n       <use style=\"stroke:#000000;stroke-width:0.6;\" x=\"185.916912\" xlink:href=\"#m4f3f5aa315\" y=\"226.575351\"/>\n      </g>\n     </g>\n    </g>\n    <g id=\"xtick_35\">\n     <g id=\"line2d_35\">\n      <g>\n       <use style=\"stroke:#000000;stroke-width:0.6;\" x=\"190.840441\" xlink:href=\"#m4f3f5aa315\" y=\"226.575351\"/>\n      </g>\n     </g>\n     <g id=\"text_8\">\n      <!-- 03 -->\n      <g transform=\"translate(184.477941 239.573789)scale(0.1 -0.1)\">\n       <defs>\n        <path d=\"M 2597 2516 \nQ 3050 2419 3304 2112 \nQ 3559 1806 3559 1356 \nQ 3559 666 3084 287 \nQ 2609 -91 1734 -91 \nQ 1441 -91 1130 -33 \nQ 819 25 488 141 \nL 488 750 \nQ 750 597 1062 519 \nQ 1375 441 1716 441 \nQ 2309 441 2620 675 \nQ 2931 909 2931 1356 \nQ 2931 1769 2642 2001 \nQ 2353 2234 1838 2234 \nL 1294 2234 \nL 1294 2753 \nL 1863 2753 \nQ 2328 2753 2575 2939 \nQ 2822 3125 2822 3475 \nQ 2822 3834 2567 4026 \nQ 2313 4219 1838 4219 \nQ 1578 4219 1281 4162 \nQ 984 4106 628 3988 \nL 628 4550 \nQ 988 4650 1302 4700 \nQ 1616 4750 1894 4750 \nQ 2613 4750 3031 4423 \nQ 3450 4097 3450 3541 \nQ 3450 3153 3228 2886 \nQ 3006 2619 2597 2516 \nz\n\" id=\"DejaVuSans-33\" transform=\"scale(0.015625)\"/>\n       </defs>\n       <use xlink:href=\"#DejaVuSans-30\"/>\n       <use x=\"63.623047\" xlink:href=\"#DejaVuSans-33\"/>\n      </g>\n     </g>\n    </g>\n    <g id=\"xtick_36\">\n     <g id=\"line2d_36\">\n      <g>\n       <use style=\"stroke:#000000;stroke-width:0.6;\" x=\"195.763971\" xlink:href=\"#m4f3f5aa315\" y=\"226.575351\"/>\n      </g>\n     </g>\n    </g>\n    <g id=\"xtick_37\">\n     <g id=\"line2d_37\">\n      <g>\n       <use style=\"stroke:#000000;stroke-width:0.6;\" x=\"200.6875\" xlink:href=\"#m4f3f5aa315\" y=\"226.575351\"/>\n      </g>\n     </g>\n    </g>\n    <g id=\"xtick_38\">\n     <g id=\"line2d_38\">\n      <g>\n       <use style=\"stroke:#000000;stroke-width:0.6;\" x=\"205.611029\" xlink:href=\"#m4f3f5aa315\" y=\"226.575351\"/>\n      </g>\n     </g>\n    </g>\n    <g id=\"xtick_39\">\n     <g id=\"line2d_39\">\n      <g>\n       <use style=\"stroke:#000000;stroke-width:0.6;\" x=\"210.534559\" xlink:href=\"#m4f3f5aa315\" y=\"226.575351\"/>\n      </g>\n     </g>\n    </g>\n    <g id=\"xtick_40\">\n     <g id=\"line2d_40\">\n      <g>\n       <use style=\"stroke:#000000;stroke-width:0.6;\" x=\"215.458088\" xlink:href=\"#m4f3f5aa315\" y=\"226.575351\"/>\n      </g>\n     </g>\n    </g>\n    <g id=\"xtick_41\">\n     <g id=\"line2d_41\">\n      <g>\n       <use style=\"stroke:#000000;stroke-width:0.6;\" x=\"220.381618\" xlink:href=\"#m4f3f5aa315\" y=\"226.575351\"/>\n      </g>\n     </g>\n    </g>\n    <g id=\"xtick_42\">\n     <g id=\"line2d_42\">\n      <g>\n       <use style=\"stroke:#000000;stroke-width:0.6;\" x=\"225.305147\" xlink:href=\"#m4f3f5aa315\" y=\"226.575351\"/>\n      </g>\n     </g>\n     <g id=\"text_9\">\n      <!-- 10 -->\n      <g transform=\"translate(218.942647 239.573789)scale(0.1 -0.1)\">\n       <use xlink:href=\"#DejaVuSans-31\"/>\n       <use x=\"63.623047\" xlink:href=\"#DejaVuSans-30\"/>\n      </g>\n     </g>\n    </g>\n    <g id=\"xtick_43\">\n     <g id=\"line2d_43\">\n      <g>\n       <use style=\"stroke:#000000;stroke-width:0.6;\" x=\"230.228676\" xlink:href=\"#m4f3f5aa315\" y=\"226.575351\"/>\n      </g>\n     </g>\n    </g>\n    <g id=\"xtick_44\">\n     <g id=\"line2d_44\">\n      <g>\n       <use style=\"stroke:#000000;stroke-width:0.6;\" x=\"235.152206\" xlink:href=\"#m4f3f5aa315\" y=\"226.575351\"/>\n      </g>\n     </g>\n    </g>\n    <g id=\"xtick_45\">\n     <g id=\"line2d_45\">\n      <g>\n       <use style=\"stroke:#000000;stroke-width:0.6;\" x=\"240.075735\" xlink:href=\"#m4f3f5aa315\" y=\"226.575351\"/>\n      </g>\n     </g>\n    </g>\n    <g id=\"xtick_46\">\n     <g id=\"line2d_46\">\n      <g>\n       <use style=\"stroke:#000000;stroke-width:0.6;\" x=\"244.999265\" xlink:href=\"#m4f3f5aa315\" y=\"226.575351\"/>\n      </g>\n     </g>\n    </g>\n    <g id=\"xtick_47\">\n     <g id=\"line2d_47\">\n      <g>\n       <use style=\"stroke:#000000;stroke-width:0.6;\" x=\"249.922794\" xlink:href=\"#m4f3f5aa315\" y=\"226.575351\"/>\n      </g>\n     </g>\n    </g>\n    <g id=\"xtick_48\">\n     <g id=\"line2d_48\">\n      <g>\n       <use style=\"stroke:#000000;stroke-width:0.6;\" x=\"254.846324\" xlink:href=\"#m4f3f5aa315\" y=\"226.575351\"/>\n      </g>\n     </g>\n    </g>\n    <g id=\"xtick_49\">\n     <g id=\"line2d_49\">\n      <g>\n       <use style=\"stroke:#000000;stroke-width:0.6;\" x=\"259.769853\" xlink:href=\"#m4f3f5aa315\" y=\"226.575351\"/>\n      </g>\n     </g>\n     <g id=\"text_10\">\n      <!-- 17 -->\n      <g transform=\"translate(253.407353 239.573789)scale(0.1 -0.1)\">\n       <defs>\n        <path d=\"M 525 4666 \nL 3525 4666 \nL 3525 4397 \nL 1831 0 \nL 1172 0 \nL 2766 4134 \nL 525 4134 \nL 525 4666 \nz\n\" id=\"DejaVuSans-37\" transform=\"scale(0.015625)\"/>\n       </defs>\n       <use xlink:href=\"#DejaVuSans-31\"/>\n       <use x=\"63.623047\" xlink:href=\"#DejaVuSans-37\"/>\n      </g>\n     </g>\n    </g>\n    <g id=\"xtick_50\">\n     <g id=\"line2d_50\">\n      <g>\n       <use style=\"stroke:#000000;stroke-width:0.6;\" x=\"264.693382\" xlink:href=\"#m4f3f5aa315\" y=\"226.575351\"/>\n      </g>\n     </g>\n    </g>\n    <g id=\"xtick_51\">\n     <g id=\"line2d_51\">\n      <g>\n       <use style=\"stroke:#000000;stroke-width:0.6;\" x=\"269.616912\" xlink:href=\"#m4f3f5aa315\" y=\"226.575351\"/>\n      </g>\n     </g>\n    </g>\n    <g id=\"xtick_52\">\n     <g id=\"line2d_52\">\n      <g>\n       <use style=\"stroke:#000000;stroke-width:0.6;\" x=\"274.540441\" xlink:href=\"#m4f3f5aa315\" y=\"226.575351\"/>\n      </g>\n     </g>\n    </g>\n    <g id=\"xtick_53\">\n     <g id=\"line2d_53\">\n      <g>\n       <use style=\"stroke:#000000;stroke-width:0.6;\" x=\"279.463971\" xlink:href=\"#m4f3f5aa315\" y=\"226.575351\"/>\n      </g>\n     </g>\n    </g>\n    <g id=\"xtick_54\">\n     <g id=\"line2d_54\">\n      <g>\n       <use style=\"stroke:#000000;stroke-width:0.6;\" x=\"284.3875\" xlink:href=\"#m4f3f5aa315\" y=\"226.575351\"/>\n      </g>\n     </g>\n    </g>\n    <g id=\"xtick_55\">\n     <g id=\"line2d_55\">\n      <g>\n       <use style=\"stroke:#000000;stroke-width:0.6;\" x=\"289.311029\" xlink:href=\"#m4f3f5aa315\" y=\"226.575351\"/>\n      </g>\n     </g>\n    </g>\n    <g id=\"xtick_56\">\n     <g id=\"line2d_56\">\n      <g>\n       <use style=\"stroke:#000000;stroke-width:0.6;\" x=\"294.234559\" xlink:href=\"#m4f3f5aa315\" y=\"226.575351\"/>\n      </g>\n     </g>\n     <g id=\"text_11\">\n      <!-- 24 -->\n      <g transform=\"translate(287.872059 239.573789)scale(0.1 -0.1)\">\n       <defs>\n        <path d=\"M 2419 4116 \nL 825 1625 \nL 2419 1625 \nL 2419 4116 \nz\nM 2253 4666 \nL 3047 4666 \nL 3047 1625 \nL 3713 1625 \nL 3713 1100 \nL 3047 1100 \nL 3047 0 \nL 2419 0 \nL 2419 1100 \nL 313 1100 \nL 313 1709 \nL 2253 4666 \nz\n\" id=\"DejaVuSans-34\" transform=\"scale(0.015625)\"/>\n       </defs>\n       <use xlink:href=\"#DejaVuSans-32\"/>\n       <use x=\"63.623047\" xlink:href=\"#DejaVuSans-34\"/>\n      </g>\n     </g>\n    </g>\n    <g id=\"xtick_57\">\n     <g id=\"line2d_57\">\n      <g>\n       <use style=\"stroke:#000000;stroke-width:0.6;\" x=\"299.158088\" xlink:href=\"#m4f3f5aa315\" y=\"226.575351\"/>\n      </g>\n     </g>\n    </g>\n    <g id=\"xtick_58\">\n     <g id=\"line2d_58\">\n      <g>\n       <use style=\"stroke:#000000;stroke-width:0.6;\" x=\"304.081618\" xlink:href=\"#m4f3f5aa315\" y=\"226.575351\"/>\n      </g>\n     </g>\n    </g>\n    <g id=\"xtick_59\">\n     <g id=\"line2d_59\">\n      <g>\n       <use style=\"stroke:#000000;stroke-width:0.6;\" x=\"309.005147\" xlink:href=\"#m4f3f5aa315\" y=\"226.575351\"/>\n      </g>\n     </g>\n    </g>\n    <g id=\"xtick_60\">\n     <g id=\"line2d_60\">\n      <g>\n       <use style=\"stroke:#000000;stroke-width:0.6;\" x=\"313.928676\" xlink:href=\"#m4f3f5aa315\" y=\"226.575351\"/>\n      </g>\n     </g>\n    </g>\n    <g id=\"xtick_61\">\n     <g id=\"line2d_61\">\n      <g>\n       <use style=\"stroke:#000000;stroke-width:0.6;\" x=\"318.852206\" xlink:href=\"#m4f3f5aa315\" y=\"226.575351\"/>\n      </g>\n     </g>\n    </g>\n    <g id=\"xtick_62\">\n     <g id=\"line2d_62\">\n      <g>\n       <use style=\"stroke:#000000;stroke-width:0.6;\" x=\"323.775735\" xlink:href=\"#m4f3f5aa315\" y=\"226.575351\"/>\n      </g>\n     </g>\n    </g>\n    <g id=\"xtick_63\">\n     <g id=\"line2d_63\">\n      <g>\n       <use style=\"stroke:#000000;stroke-width:0.6;\" x=\"328.699265\" xlink:href=\"#m4f3f5aa315\" y=\"226.575351\"/>\n      </g>\n     </g>\n     <g id=\"text_12\">\n      <!-- 31 -->\n      <g transform=\"translate(322.336765 239.573789)scale(0.1 -0.1)\">\n       <use xlink:href=\"#DejaVuSans-33\"/>\n       <use x=\"63.623047\" xlink:href=\"#DejaVuSans-31\"/>\n      </g>\n     </g>\n    </g>\n    <g id=\"xtick_64\">\n     <g id=\"line2d_64\">\n      <g>\n       <use style=\"stroke:#000000;stroke-width:0.6;\" x=\"338.546324\" xlink:href=\"#m4f3f5aa315\" y=\"226.575351\"/>\n      </g>\n     </g>\n    </g>\n    <g id=\"xtick_65\">\n     <g id=\"line2d_65\">\n      <g>\n       <use style=\"stroke:#000000;stroke-width:0.6;\" x=\"343.469853\" xlink:href=\"#m4f3f5aa315\" y=\"226.575351\"/>\n      </g>\n     </g>\n    </g>\n    <g id=\"xtick_66\">\n     <g id=\"line2d_66\">\n      <g>\n       <use style=\"stroke:#000000;stroke-width:0.6;\" x=\"348.393382\" xlink:href=\"#m4f3f5aa315\" y=\"226.575351\"/>\n      </g>\n     </g>\n    </g>\n    <g id=\"xtick_67\">\n     <g id=\"line2d_67\">\n      <g>\n       <use style=\"stroke:#000000;stroke-width:0.6;\" x=\"353.316912\" xlink:href=\"#m4f3f5aa315\" y=\"226.575351\"/>\n      </g>\n     </g>\n    </g>\n    <g id=\"xtick_68\">\n     <g id=\"line2d_68\">\n      <g>\n       <use style=\"stroke:#000000;stroke-width:0.6;\" x=\"358.240441\" xlink:href=\"#m4f3f5aa315\" y=\"226.575351\"/>\n      </g>\n     </g>\n    </g>\n    <g id=\"xtick_69\">\n     <g id=\"line2d_69\">\n      <g>\n       <use style=\"stroke:#000000;stroke-width:0.6;\" x=\"363.163971\" xlink:href=\"#m4f3f5aa315\" y=\"226.575351\"/>\n      </g>\n     </g>\n     <g id=\"text_13\">\n      <!-- 07 -->\n      <g transform=\"translate(356.801471 239.573789)scale(0.1 -0.1)\">\n       <use xlink:href=\"#DejaVuSans-30\"/>\n       <use x=\"63.623047\" xlink:href=\"#DejaVuSans-37\"/>\n      </g>\n     </g>\n    </g>\n    <g id=\"text_14\">\n     <!-- date -->\n     <g transform=\"translate(189.4125 288.445351)scale(0.1 -0.1)\">\n      <defs>\n       <path d=\"M 2906 2969 \nL 2906 4863 \nL 3481 4863 \nL 3481 0 \nL 2906 0 \nL 2906 525 \nQ 2725 213 2448 61 \nQ 2172 -91 1784 -91 \nQ 1150 -91 751 415 \nQ 353 922 353 1747 \nQ 353 2572 751 3078 \nQ 1150 3584 1784 3584 \nQ 2172 3584 2448 3432 \nQ 2725 3281 2906 2969 \nz\nM 947 1747 \nQ 947 1113 1208 752 \nQ 1469 391 1925 391 \nQ 2381 391 2643 752 \nQ 2906 1113 2906 1747 \nQ 2906 2381 2643 2742 \nQ 2381 3103 1925 3103 \nQ 1469 3103 1208 2742 \nQ 947 2381 947 1747 \nz\n\" id=\"DejaVuSans-64\" transform=\"scale(0.015625)\"/>\n       <path d=\"M 1172 4494 \nL 1172 3500 \nL 2356 3500 \nL 2356 3053 \nL 1172 3053 \nL 1172 1153 \nQ 1172 725 1289 603 \nQ 1406 481 1766 481 \nL 2356 481 \nL 2356 0 \nL 1766 0 \nQ 1100 0 847 248 \nQ 594 497 594 1153 \nL 594 3053 \nL 172 3053 \nL 172 3500 \nL 594 3500 \nL 594 4494 \nL 1172 4494 \nz\n\" id=\"DejaVuSans-74\" transform=\"scale(0.015625)\"/>\n       <path d=\"M 3597 1894 \nL 3597 1613 \nL 953 1613 \nQ 991 1019 1311 708 \nQ 1631 397 2203 397 \nQ 2534 397 2845 478 \nQ 3156 559 3463 722 \nL 3463 178 \nQ 3153 47 2828 -22 \nQ 2503 -91 2169 -91 \nQ 1331 -91 842 396 \nQ 353 884 353 1716 \nQ 353 2575 817 3079 \nQ 1281 3584 2069 3584 \nQ 2775 3584 3186 3129 \nQ 3597 2675 3597 1894 \nz\nM 3022 2063 \nQ 3016 2534 2758 2815 \nQ 2500 3097 2075 3097 \nQ 1594 3097 1305 2825 \nQ 1016 2553 972 2059 \nL 3022 2063 \nz\n\" id=\"DejaVuSans-65\" transform=\"scale(0.015625)\"/>\n      </defs>\n      <use xlink:href=\"#DejaVuSans-64\"/>\n      <use x=\"63.476562\" xlink:href=\"#DejaVuSans-61\"/>\n      <use x=\"124.755859\" xlink:href=\"#DejaVuSans-74\"/>\n      <use x=\"163.964844\" xlink:href=\"#DejaVuSans-65\"/>\n     </g>\n    </g>\n   </g>\n   <g id=\"matplotlib.axis_2\">\n    <g id=\"ytick_1\">\n     <g id=\"line2d_70\">\n      <defs>\n       <path d=\"M 0 0 \nL -3.5 0 \n\" id=\"md2eabc5b1d\" style=\"stroke:#000000;stroke-width:0.8;\"/>\n      </defs>\n      <g>\n       <use style=\"stroke:#000000;stroke-width:0.8;\" x=\"33.2875\" xlink:href=\"#md2eabc5b1d\" y=\"202.565099\"/>\n      </g>\n     </g>\n     <g id=\"text_15\">\n      <!-- 40 -->\n      <g transform=\"translate(13.5625 206.364318)scale(0.1 -0.1)\">\n       <use xlink:href=\"#DejaVuSans-34\"/>\n       <use x=\"63.623047\" xlink:href=\"#DejaVuSans-30\"/>\n      </g>\n     </g>\n    </g>\n    <g id=\"ytick_2\">\n     <g id=\"line2d_71\">\n      <g>\n       <use style=\"stroke:#000000;stroke-width:0.8;\" x=\"33.2875\" xlink:href=\"#md2eabc5b1d\" y=\"175.198545\"/>\n      </g>\n     </g>\n     <g id=\"text_16\">\n      <!-- 60 -->\n      <g transform=\"translate(13.5625 178.997764)scale(0.1 -0.1)\">\n       <use xlink:href=\"#DejaVuSans-36\"/>\n       <use x=\"63.623047\" xlink:href=\"#DejaVuSans-30\"/>\n      </g>\n     </g>\n    </g>\n    <g id=\"ytick_3\">\n     <g id=\"line2d_72\">\n      <g>\n       <use style=\"stroke:#000000;stroke-width:0.8;\" x=\"33.2875\" xlink:href=\"#md2eabc5b1d\" y=\"147.831991\"/>\n      </g>\n     </g>\n     <g id=\"text_17\">\n      <!-- 80 -->\n      <g transform=\"translate(13.5625 151.631209)scale(0.1 -0.1)\">\n       <defs>\n        <path d=\"M 2034 2216 \nQ 1584 2216 1326 1975 \nQ 1069 1734 1069 1313 \nQ 1069 891 1326 650 \nQ 1584 409 2034 409 \nQ 2484 409 2743 651 \nQ 3003 894 3003 1313 \nQ 3003 1734 2745 1975 \nQ 2488 2216 2034 2216 \nz\nM 1403 2484 \nQ 997 2584 770 2862 \nQ 544 3141 544 3541 \nQ 544 4100 942 4425 \nQ 1341 4750 2034 4750 \nQ 2731 4750 3128 4425 \nQ 3525 4100 3525 3541 \nQ 3525 3141 3298 2862 \nQ 3072 2584 2669 2484 \nQ 3125 2378 3379 2068 \nQ 3634 1759 3634 1313 \nQ 3634 634 3220 271 \nQ 2806 -91 2034 -91 \nQ 1263 -91 848 271 \nQ 434 634 434 1313 \nQ 434 1759 690 2068 \nQ 947 2378 1403 2484 \nz\nM 1172 3481 \nQ 1172 3119 1398 2916 \nQ 1625 2713 2034 2713 \nQ 2441 2713 2670 2916 \nQ 2900 3119 2900 3481 \nQ 2900 3844 2670 4047 \nQ 2441 4250 2034 4250 \nQ 1625 4250 1398 4047 \nQ 1172 3844 1172 3481 \nz\n\" id=\"DejaVuSans-38\" transform=\"scale(0.015625)\"/>\n       </defs>\n       <use xlink:href=\"#DejaVuSans-38\"/>\n       <use x=\"63.623047\" xlink:href=\"#DejaVuSans-30\"/>\n      </g>\n     </g>\n    </g>\n    <g id=\"ytick_4\">\n     <g id=\"line2d_73\">\n      <g>\n       <use style=\"stroke:#000000;stroke-width:0.8;\" x=\"33.2875\" xlink:href=\"#md2eabc5b1d\" y=\"120.465436\"/>\n      </g>\n     </g>\n     <g id=\"text_18\">\n      <!-- 100 -->\n      <g transform=\"translate(7.2 124.264655)scale(0.1 -0.1)\">\n       <use xlink:href=\"#DejaVuSans-31\"/>\n       <use x=\"63.623047\" xlink:href=\"#DejaVuSans-30\"/>\n       <use x=\"127.246094\" xlink:href=\"#DejaVuSans-30\"/>\n      </g>\n     </g>\n    </g>\n    <g id=\"ytick_5\">\n     <g id=\"line2d_74\">\n      <g>\n       <use style=\"stroke:#000000;stroke-width:0.8;\" x=\"33.2875\" xlink:href=\"#md2eabc5b1d\" y=\"93.098882\"/>\n      </g>\n     </g>\n     <g id=\"text_19\">\n      <!-- 120 -->\n      <g transform=\"translate(7.2 96.898101)scale(0.1 -0.1)\">\n       <use xlink:href=\"#DejaVuSans-31\"/>\n       <use x=\"63.623047\" xlink:href=\"#DejaVuSans-32\"/>\n       <use x=\"127.246094\" xlink:href=\"#DejaVuSans-30\"/>\n      </g>\n     </g>\n    </g>\n    <g id=\"ytick_6\">\n     <g id=\"line2d_75\">\n      <g>\n       <use style=\"stroke:#000000;stroke-width:0.8;\" x=\"33.2875\" xlink:href=\"#md2eabc5b1d\" y=\"65.732328\"/>\n      </g>\n     </g>\n     <g id=\"text_20\">\n      <!-- 140 -->\n      <g transform=\"translate(7.2 69.531546)scale(0.1 -0.1)\">\n       <use xlink:href=\"#DejaVuSans-31\"/>\n       <use x=\"63.623047\" xlink:href=\"#DejaVuSans-34\"/>\n       <use x=\"127.246094\" xlink:href=\"#DejaVuSans-30\"/>\n      </g>\n     </g>\n    </g>\n    <g id=\"ytick_7\">\n     <g id=\"line2d_76\">\n      <g>\n       <use style=\"stroke:#000000;stroke-width:0.8;\" x=\"33.2875\" xlink:href=\"#md2eabc5b1d\" y=\"38.365773\"/>\n      </g>\n     </g>\n     <g id=\"text_21\">\n      <!-- 160 -->\n      <g transform=\"translate(7.2 42.164992)scale(0.1 -0.1)\">\n       <use xlink:href=\"#DejaVuSans-31\"/>\n       <use x=\"63.623047\" xlink:href=\"#DejaVuSans-36\"/>\n       <use x=\"127.246094\" xlink:href=\"#DejaVuSans-30\"/>\n      </g>\n     </g>\n    </g>\n    <g id=\"ytick_8\">\n     <g id=\"line2d_77\">\n      <g>\n       <use style=\"stroke:#000000;stroke-width:0.8;\" x=\"33.2875\" xlink:href=\"#md2eabc5b1d\" y=\"10.999219\"/>\n      </g>\n     </g>\n     <g id=\"text_22\">\n      <!-- 180 -->\n      <g transform=\"translate(7.2 14.798438)scale(0.1 -0.1)\">\n       <use xlink:href=\"#DejaVuSans-31\"/>\n       <use x=\"63.623047\" xlink:href=\"#DejaVuSans-38\"/>\n       <use x=\"127.246094\" xlink:href=\"#DejaVuSans-30\"/>\n      </g>\n     </g>\n    </g>\n   </g>\n   <g id=\"line2d_78\">\n    <path clip-path=\"url(#p1134ec8544)\" d=\"M 33.2875 64.205274 \nL 38.211029 68.459405 \nL 43.134559 72.504181 \nL 48.058088 72.012952 \nL 52.981618 76.756944 \nL 57.905147 79.77137 \nL 62.828676 77.712037 \nL 67.752206 73.71652 \nL 72.675735 65.756957 \nL 77.599265 57.079023 \nL 82.522794 54.1768 \nL 87.446324 45.148574 \nL 92.369853 34.630238 \nL 97.293382 29.748045 \nL 102.216912 30.053182 \nL 107.140441 28.170363 \nL 112.063971 27.887119 \nL 116.9875 25.654009 \nL 121.911029 24.125587 \nL 126.834559 21.516186 \nL 131.758088 19.92482 \nL 136.681618 19.018988 \nL 141.605147 19.887876 \nL 146.528676 21.005799 \nL 151.452206 23.854658 \nL 156.375735 27.265899 \nL 161.299265 33.595783 \nL 166.222794 40.033765 \nL 171.146324 47.025919 \nL 176.069853 53.567894 \nL 180.993382 58.659442 \nL 185.916912 63.239234 \nL 190.840441 69.395341 \nL 195.763971 74.77971 \nL 200.6875 81.357262 \nL 205.611029 87.414849 \nL 210.534559 93.766626 \nL 215.458088 99.746218 \nL 220.381618 103.592587 \nL 225.305147 108.922224 \nL 230.228676 116.24004 \nL 235.152206 123.271876 \nL 240.075735 132.870695 \nL 244.999265 142.034386 \nL 249.922794 147.354444 \nL 254.846324 150.608328 \nL 259.769853 155.754608 \nL 264.693382 161.452325 \nL 269.616912 168.250177 \nL 274.540441 171.012831 \nL 279.463971 173.712541 \nL 284.3875 178.505793 \nL 289.311029 183.182737 \nL 294.234559 189.345685 \nL 299.158088 197.453027 \nL 304.081618 202.369429 \nL 309.005147 204.836523 \nL 313.928676 207.938522 \nL 318.852206 210.881795 \nL 323.775735 212.311698 \nL 328.699265 212.958917 \nL 333.622794 213.49667 \nL 338.546324 216.691715 \n\" style=\"fill:none;stroke:#1f77b4;stroke-linecap:square;stroke-width:1.5;\"/>\n   </g>\n   <g id=\"patch_3\">\n    <path d=\"M 33.2875 226.575351 \nL 33.2875 9.135351 \n\" style=\"fill:none;stroke:#000000;stroke-linecap:square;stroke-linejoin:miter;stroke-width:0.8;\"/>\n   </g>\n   <g id=\"patch_4\">\n    <path d=\"M 368.0875 226.575351 \nL 368.0875 9.135351 \n\" style=\"fill:none;stroke:#000000;stroke-linecap:square;stroke-linejoin:miter;stroke-width:0.8;\"/>\n   </g>\n   <g id=\"patch_5\">\n    <path d=\"M 33.2875 226.575351 \nL 368.0875 226.575351 \n\" style=\"fill:none;stroke:#000000;stroke-linecap:square;stroke-linejoin:miter;stroke-width:0.8;\"/>\n   </g>\n   <g id=\"patch_6\">\n    <path d=\"M 33.2875 9.135351 \nL 368.0875 9.135351 \n\" style=\"fill:none;stroke:#000000;stroke-linecap:square;stroke-linejoin:miter;stroke-width:0.8;\"/>\n   </g>\n  </g>\n </g>\n <defs>\n  <clipPath id=\"p1134ec8544\">\n   <rect height=\"217.44\" width=\"334.8\" x=\"33.2875\" y=\"9.135351\"/>\n  </clipPath>\n </defs>\n</svg>\n",
      "image/png": "[encoded data removed]"
     },
     "metadata": {
      "needs_background": "light"
     }
    }
   ],
   "source": [
    "emp.loc[\"2021-04\":, \"new_known_case\"].plot()"
   ]
  },
  {
   "cell_type": "code",
   "execution_count": 4,
   "metadata": {},
   "outputs": [
    {
     "output_type": "stream",
     "name": "stdout",
     "text": [
      "2021-05-01 00:00:00 : 145.169 End of May: 32.404\nReduction:  0.78\n"
     ]
    }
   ],
   "source": [
    "date_max_wave_3 = emp.loc[\"2021-04\":, \"new_known_case\"].idxmax()\n",
    "date_max_wave_3 = emp.loc[\"2021-05-01\":].index[0]\n",
    "max_wave_3 = emp.loc[date_max_wave_3, \"new_known_case\"]\n",
    "end_may = emp.loc[\"2021-05-31\", \"new_known_case\"]\n",
    "print(date_max_wave_3, ':', max_wave_3, \"End of May:\", end_may)\n",
    "print(\"Reduction: \", np.round((max_wave_3 - end_may) / max_wave_3, 2))"
   ]
  },
  {
   "cell_type": "code",
   "execution_count": 5,
   "metadata": {},
   "outputs": [
    {
     "output_type": "stream",
     "name": "stdout",
     "text": [
      "49 days 00:00:00\n2020-09-15 00:00:00 : 13.981 2020-11-03 00:00:00 146.136\nFactor  10.45\n"
     ]
    }
   ],
   "source": [
    "date_mid_sep = emp.loc[\"2020-09-15\":].index[0]\n",
    "date_end_oct = emp.loc[\"2020-11-03\":].index[0]\n",
    "print(date_end_oct - date_mid_sep)\n",
    "mid_sep = emp.loc[date_mid_sep, \"new_known_case\"]\n",
    "end_oct = emp.loc[date_end_oct, \"new_known_case\"]\n",
    "print(date_mid_sep, ':', mid_sep, date_end_oct, end_oct)\n",
    "print(\"Factor \", np.round(end_oct / mid_sep, 2))"
   ]
  },
  {
   "cell_type": "code",
   "execution_count": 6,
   "metadata": {},
   "outputs": [
    {
     "output_type": "execute_result",
     "data": {
      "text/plain": [
       "            new_known_case  newly_deceased  share_ever_rapid_test  \\\n",
       "date                                                                \n",
       "2021-02-01          87.852           3.265                    NaN   \n",
       "2021-02-02          84.592           3.100                    NaN   \n",
       "2021-02-03          82.466           2.996                    NaN   \n",
       "2021-02-04          80.263           2.913                    NaN   \n",
       "2021-02-05          77.436           2.769                    NaN   \n",
       "2021-02-06          75.217           2.649                    NaN   \n",
       "2021-02-07          73.648           2.594                    NaN   \n",
       "2021-02-08          71.271           2.469                    NaN   \n",
       "2021-02-09          68.467           2.352                    NaN   \n",
       "2021-02-10          65.737           2.182                    NaN   \n",
       "2021-02-11          63.719           2.063                    NaN   \n",
       "2021-02-12          62.620           1.986                    NaN   \n",
       "2021-02-13          60.925           1.936                    NaN   \n",
       "2021-02-14          61.365           1.907                    NaN   \n",
       "2021-02-15          61.784           1.884                    NaN   \n",
       "2021-02-16          62.127           1.863                    NaN   \n",
       "2021-02-17          62.390           1.852                    NaN   \n",
       "2021-02-18          63.090           1.812                    NaN   \n",
       "2021-02-19          63.542           1.780                    NaN   \n",
       "2021-02-20          65.416           1.763                    NaN   \n",
       "2021-02-21          65.367           1.743                    NaN   \n",
       "2021-02-22          65.734           1.720                    NaN   \n",
       "2021-02-23          66.573           1.649                  0.228   \n",
       "2021-02-24          67.030           1.566                    NaN   \n",
       "2021-02-25          67.099           1.496                    NaN   \n",
       "2021-02-26          67.671           1.454                    NaN   \n",
       "2021-02-27          67.589           1.443                    NaN   \n",
       "2021-02-28          68.223           1.428                    NaN   \n",
       "2021-03-01          68.896           1.376                    NaN   \n",
       "2021-03-02          69.463           1.325                    NaN   \n",
       "2021-03-03          70.186           1.265                    NaN   \n",
       "2021-03-04          71.072           1.240                    NaN   \n",
       "2021-03-05          71.813           1.220                    NaN   \n",
       "2021-03-06          72.839           1.212                    NaN   \n",
       "2021-03-07          73.740           1.222                    NaN   \n",
       "2021-03-08          75.247           1.227                    NaN   \n",
       "2021-03-09          77.280           1.224                  0.269   \n",
       "2021-03-10          80.627           1.271                    NaN   \n",
       "2021-03-11          84.247           1.306                    NaN   \n",
       "2021-03-12          88.060           1.331                    NaN   \n",
       "2021-03-13          91.540           1.334                    NaN   \n",
       "2021-03-14          94.412           1.347                    NaN   \n",
       "2021-03-15          97.981           1.348                    NaN   \n",
       "2021-03-16         102.405           1.390                    NaN   \n",
       "2021-03-17         106.976           1.413                    NaN   \n",
       "2021-03-18         110.398           1.437                    NaN   \n",
       "2021-03-19         113.499           1.473                    NaN   \n",
       "2021-03-20         116.608           1.498                    NaN   \n",
       "2021-03-21         118.928           1.517                    NaN   \n",
       "2021-03-22         122.269           1.536                    NaN   \n",
       "2021-03-23         126.230           1.620                  0.312   \n",
       "2021-03-24         130.277           1.654                    NaN   \n",
       "2021-03-25         135.061           1.704                    NaN   \n",
       "2021-03-26         138.859           1.736                    NaN   \n",
       "2021-03-27         140.708           1.775                    NaN   \n",
       "2021-03-28         141.045           1.792                    NaN   \n",
       "2021-03-29         141.583           1.853                    NaN   \n",
       "2021-03-30         141.169           1.829                    NaN   \n",
       "2021-03-31         140.769           1.846                    NaN   \n",
       "2021-04-01         141.116           1.849                    NaN   \n",
       "2021-04-02         138.007           1.812                    NaN   \n",
       "2021-04-03         135.051           1.829                    NaN   \n",
       "2021-04-04         135.410           1.830                    NaN   \n",
       "2021-04-05         131.943           1.758                    NaN   \n",
       "2021-04-06         129.740           1.761                    NaN   \n",
       "2021-04-07         131.245           1.743                  0.444   \n",
       "2021-04-08         134.165           1.745                    NaN   \n",
       "2021-04-09         139.982           1.752                    NaN   \n",
       "2021-04-10         146.324           1.769                    NaN   \n",
       "2021-04-11         148.445           1.742                    NaN   \n",
       "2021-04-12         155.043           1.792                    NaN   \n",
       "2021-04-13         162.730           1.776                    NaN   \n",
       "2021-04-14         166.298           1.787                    NaN   \n",
       "2021-04-15         166.075           1.742                    NaN   \n",
       "2021-04-16         167.451           1.764                    NaN   \n",
       "2021-04-17         167.658           1.722                    NaN   \n",
       "2021-04-18         169.290           1.764                    NaN   \n",
       "2021-04-19         170.407           1.727                    NaN   \n",
       "2021-04-20         172.314           1.739                  0.559   \n",
       "2021-04-21         173.477           1.710                    NaN   \n",
       "2021-04-22         174.139           1.707                    NaN   \n",
       "2021-04-23         173.504           1.677                    NaN   \n",
       "2021-04-24         172.687           1.661                    NaN   \n",
       "2021-04-25         170.605           1.593                    NaN   \n",
       "2021-04-26         168.112           1.548                    NaN   \n",
       "2021-04-27         163.486           1.453                    NaN   \n",
       "2021-04-28         158.781           1.414                    NaN   \n",
       "2021-04-29         153.671           1.345                    NaN   \n",
       "2021-04-30         148.890           1.300                    NaN   \n",
       "2021-05-01         145.169           1.252                    NaN   \n",
       "2021-05-02         141.822           1.225                    NaN   \n",
       "2021-05-03         137.323           1.173                    NaN   \n",
       "2021-05-04         133.388           1.153                  0.637   \n",
       "2021-05-05         128.581           1.073                    NaN   \n",
       "2021-05-06         124.154           1.012                    NaN   \n",
       "2021-05-07         119.512           0.954                    NaN   \n",
       "2021-05-08         115.142           0.875                    NaN   \n",
       "2021-05-09         112.331           0.846                    NaN   \n",
       "2021-05-10         108.436           0.806                    NaN   \n",
       "2021-05-11         103.088           0.733                    NaN   \n",
       "2021-05-12          97.949           0.692                    NaN   \n",
       "2021-05-13          90.934           0.649                    NaN   \n",
       "2021-05-14          84.237           0.569                    NaN   \n",
       "2021-05-15          80.349           0.561                    NaN   \n",
       "2021-05-16          77.971           0.540                    NaN   \n",
       "2021-05-17          74.210           0.482                    NaN   \n",
       "2021-05-18          70.046           0.440                  0.683   \n",
       "2021-05-19          65.078           0.388                    NaN   \n",
       "2021-05-20          63.059           0.348                    NaN   \n",
       "2021-05-21          61.086           0.328                    NaN   \n",
       "2021-05-22          57.583           0.290                    NaN   \n",
       "2021-05-23          54.165           0.263                    NaN   \n",
       "2021-05-24          49.661           0.236                    NaN   \n",
       "2021-05-25          43.736           0.207                    NaN   \n",
       "2021-05-26          40.143           0.187                    NaN   \n",
       "2021-05-27          38.340           0.164                    NaN   \n",
       "2021-05-28          36.073           0.145                    NaN   \n",
       "2021-05-29          33.922           0.122                    NaN   \n",
       "2021-05-30          32.877           0.111                    NaN   \n",
       "2021-05-31          32.404           0.096                    NaN   \n",
       "2021-06-01          32.011           0.080                    NaN   \n",
       "2021-06-02          29.676           0.060                    NaN   \n",
       "2021-06-03             NaN             NaN                    NaN   \n",
       "2021-06-04             NaN             NaN                    NaN   \n",
       "2021-06-05             NaN             NaN                    NaN   \n",
       "2021-06-06             NaN             NaN                    NaN   \n",
       "2021-06-07             NaN             NaN                    NaN   \n",
       "2021-06-08             NaN             NaN                    NaN   \n",
       "\n",
       "            share_rapid_test_in_last_week  share_b117  ever_vaccinated  \\\n",
       "date                                                                     \n",
       "2021-02-01                            NaN       0.051            0.024   \n",
       "2021-02-02                            NaN       0.054            0.025   \n",
       "2021-02-03                            NaN       0.058            0.025   \n",
       "2021-02-04                            NaN       0.061            0.026   \n",
       "2021-02-05                            NaN       0.065            0.027   \n",
       "2021-02-06                            NaN       0.068            0.028   \n",
       "2021-02-07                            NaN       0.072            0.028   \n",
       "2021-02-08                            NaN       0.087            0.029   \n",
       "2021-02-09                            NaN       0.102            0.029   \n",
       "2021-02-10                            NaN       0.117            0.030   \n",
       "2021-02-11                            NaN       0.131            0.031   \n",
       "2021-02-12                            NaN       0.146            0.032   \n",
       "2021-02-13                            NaN       0.161            0.033   \n",
       "2021-02-14                            NaN       0.176            0.033   \n",
       "2021-02-15                            NaN       0.188            0.034   \n",
       "2021-02-16                            NaN       0.200            0.035   \n",
       "2021-02-17                            NaN       0.212            0.036   \n",
       "2021-02-18                            NaN       0.223            0.037   \n",
       "2021-02-19                            NaN       0.235            0.039   \n",
       "2021-02-20                            NaN       0.247            0.039   \n",
       "2021-02-21                            NaN       0.259            0.040   \n",
       "2021-02-22                            NaN       0.279            0.041   \n",
       "2021-02-23                            NaN       0.299            0.043   \n",
       "2021-02-24                            NaN       0.319            0.044   \n",
       "2021-02-25                            NaN       0.340            0.046   \n",
       "2021-02-26                            NaN       0.360            0.047   \n",
       "2021-02-27                            NaN       0.380            0.049   \n",
       "2021-02-28                            NaN       0.400            0.050   \n",
       "2021-03-01                            NaN       0.421            0.051   \n",
       "2021-03-02                            NaN       0.441            0.053   \n",
       "2021-03-03                            NaN       0.462            0.056   \n",
       "2021-03-04                            NaN       0.483            0.058   \n",
       "2021-03-05                            NaN       0.504            0.060   \n",
       "2021-03-06                            NaN       0.524            0.062   \n",
       "2021-03-07                            NaN       0.545            0.063   \n",
       "2021-03-08                            NaN       0.558            0.066   \n",
       "2021-03-09                            NaN       0.571            0.068   \n",
       "2021-03-10                            NaN       0.584            0.071   \n",
       "2021-03-11                            NaN       0.597            0.073   \n",
       "2021-03-12                            NaN       0.610            0.076   \n",
       "2021-03-13                            NaN       0.623            0.079   \n",
       "2021-03-14                            NaN       0.636            0.080   \n",
       "2021-03-15                            NaN       0.647            0.083   \n",
       "2021-03-16                            NaN       0.658            0.084   \n",
       "2021-03-17                            NaN       0.669            0.086   \n",
       "2021-03-18                            NaN       0.680            0.087   \n",
       "2021-03-19                            NaN       0.691            0.089   \n",
       "2021-03-20                            NaN       0.702            0.091   \n",
       "2021-03-21                            NaN       0.713            0.093   \n",
       "2021-03-22                            NaN       0.723            0.095   \n",
       "2021-03-23                            NaN       0.734            0.097   \n",
       "2021-03-24                            NaN       0.744            0.100   \n",
       "2021-03-25                            NaN       0.754            0.103   \n",
       "2021-03-26                            NaN       0.764            0.107   \n",
       "2021-03-27                            NaN       0.775            0.110   \n",
       "2021-03-28                            NaN       0.785            0.111   \n",
       "2021-03-29                            NaN       0.791            0.114   \n",
       "2021-03-30                            NaN       0.796            0.117   \n",
       "2021-03-31                            NaN       0.802            0.120   \n",
       "2021-04-01                            NaN       0.807            0.123   \n",
       "2021-04-02                            NaN       0.813            0.124   \n",
       "2021-04-03                            NaN       0.818            0.126   \n",
       "2021-04-04                            NaN       0.824            0.128   \n",
       "2021-04-05                            NaN       0.828            0.130   \n",
       "2021-04-06                            NaN       0.832            0.134   \n",
       "2021-04-07                            NaN       0.836            0.141   \n",
       "2021-04-08                            NaN       0.841            0.148   \n",
       "2021-04-09                            NaN       0.845            0.155   \n",
       "2021-04-10                            NaN       0.849            0.159   \n",
       "2021-04-11                            NaN       0.853            0.161   \n",
       "2021-04-12                            NaN       0.859            0.165   \n",
       "2021-04-13                            NaN       0.865            0.171   \n",
       "2021-04-14                            NaN       0.871            0.180   \n",
       "2021-04-15                            NaN       0.877            0.187   \n",
       "2021-04-16                            NaN       0.883            0.193   \n",
       "2021-04-17                            NaN       0.889            0.197   \n",
       "2021-04-18                            NaN       0.895            0.200   \n",
       "2021-04-19                            NaN       0.898            0.204   \n",
       "2021-04-20                          0.295       0.900            0.210   \n",
       "2021-04-21                            NaN       0.903            0.217   \n",
       "2021-04-22                            NaN       0.905            0.224   \n",
       "2021-04-23                            NaN       0.908            0.230   \n",
       "2021-04-24                            NaN       0.910            0.234   \n",
       "2021-04-25                            NaN       0.913            0.237   \n",
       "2021-04-26                            NaN       0.912            0.241   \n",
       "2021-04-27                            NaN       0.912            0.249   \n",
       "2021-04-28                            NaN       0.911            0.261   \n",
       "2021-04-29                            NaN       0.910            0.271   \n",
       "2021-04-30                            NaN       0.909            0.279   \n",
       "2021-05-01                            NaN       0.909            0.282   \n",
       "2021-05-02                            NaN       0.908            0.285   \n",
       "2021-05-03                            NaN       0.902            0.289   \n",
       "2021-05-04                          0.422       0.897            0.297   \n",
       "2021-05-05                            NaN       0.891            0.308   \n",
       "2021-05-06                            NaN       0.885            0.317   \n",
       "2021-05-07                            NaN       0.879            0.325   \n",
       "2021-05-08                            NaN       0.874            0.328   \n",
       "2021-05-09                            NaN       0.868            0.331   \n",
       "2021-05-10                            NaN         NaN            0.335   \n",
       "2021-05-11                            NaN         NaN            0.345   \n",
       "2021-05-12                            NaN         NaN            0.358   \n",
       "2021-05-13                            NaN         NaN            0.361   \n",
       "2021-05-14                            NaN         NaN            0.367   \n",
       "2021-05-15                            NaN         NaN            0.370   \n",
       "2021-05-16                            NaN         NaN            0.372   \n",
       "2021-05-17                            NaN         NaN            0.377   \n",
       "2021-05-18                          0.435         NaN            0.383   \n",
       "2021-05-19                            NaN         NaN            0.390   \n",
       "2021-05-20                            NaN         NaN            0.395   \n",
       "2021-05-21                            NaN         NaN            0.400   \n",
       "2021-05-22                            NaN         NaN            0.403   \n",
       "2021-05-23                            NaN         NaN            0.405   \n",
       "2021-05-24                            NaN         NaN            0.407   \n",
       "2021-05-25                            NaN         NaN            0.410   \n",
       "2021-05-26                            NaN         NaN            0.417   \n",
       "2021-05-27                            NaN         NaN            0.423   \n",
       "2021-05-28                            NaN         NaN            0.428   \n",
       "2021-05-29                            NaN         NaN            0.430   \n",
       "2021-05-30                            NaN         NaN            0.432   \n",
       "2021-05-31                            NaN         NaN            0.434   \n",
       "2021-06-01                            NaN         NaN            0.440   \n",
       "2021-06-02                            NaN         NaN            0.448   \n",
       "2021-06-03                            NaN         NaN            0.451   \n",
       "2021-06-04                            NaN         NaN            0.455   \n",
       "2021-06-05                            NaN         NaN            0.457   \n",
       "2021-06-06                            NaN         NaN            0.458   \n",
       "2021-06-07                            NaN         NaN            0.461   \n",
       "2021-06-08                            NaN         NaN            0.465   \n",
       "\n",
       "            r_effective  \n",
       "date                     \n",
       "2021-02-01         0.89  \n",
       "2021-02-02         0.90  \n",
       "2021-02-03         0.89  \n",
       "2021-02-04         0.89  \n",
       "2021-02-05         0.89  \n",
       "2021-02-06         0.89  \n",
       "2021-02-07         0.88  \n",
       "2021-02-08         0.88  \n",
       "2021-02-09         0.88  \n",
       "2021-02-10         0.89  \n",
       "2021-02-11         0.91  \n",
       "2021-02-12         0.94  \n",
       "2021-02-13         0.97  \n",
       "2021-02-14         0.99  \n",
       "2021-02-15         1.01  \n",
       "2021-02-16         1.03  \n",
       "2021-02-17         1.05  \n",
       "2021-02-18         1.06  \n",
       "2021-02-19         1.07  \n",
       "2021-02-20         1.06  \n",
       "2021-02-21         1.05  \n",
       "2021-02-22         1.04  \n",
       "2021-02-23         1.02  \n",
       "2021-02-24         1.01  \n",
       "2021-02-25         1.01  \n",
       "2021-02-26         1.00  \n",
       "2021-02-27         1.00  \n",
       "2021-02-28         1.02  \n",
       "2021-03-01         1.02  \n",
       "2021-03-02         1.04  \n",
       "2021-03-03         1.05  \n",
       "2021-03-04         1.06  \n",
       "2021-03-05         1.08  \n",
       "2021-03-06         1.10  \n",
       "2021-03-07         1.12  \n",
       "2021-03-08         1.14  \n",
       "2021-03-09         1.15  \n",
       "2021-03-10         1.17  \n",
       "2021-03-11         1.17  \n",
       "2021-03-12         1.17  \n",
       "2021-03-13         1.17  \n",
       "2021-03-14         1.17  \n",
       "2021-03-15         1.17  \n",
       "2021-03-16         1.17  \n",
       "2021-03-17         1.16  \n",
       "2021-03-18         1.14  \n",
       "2021-03-19         1.13  \n",
       "2021-03-20         1.13  \n",
       "2021-03-21         1.13  \n",
       "2021-03-22         1.14  \n",
       "2021-03-23         1.13  \n",
       "2021-03-24         1.12  \n",
       "2021-03-25         1.10  \n",
       "2021-03-26         1.06  \n",
       "2021-03-27         1.03  \n",
       "2021-03-28         1.00  \n",
       "2021-03-29         0.98  \n",
       "2021-03-30         0.96  \n",
       "2021-03-31         0.96  \n",
       "2021-04-01         0.96  \n",
       "2021-04-02         0.96  \n",
       "2021-04-03         0.98  \n",
       "2021-04-04         0.97  \n",
       "2021-04-05         1.00  \n",
       "2021-04-06         1.03  \n",
       "2021-04-07         1.06  \n",
       "2021-04-08         1.11  \n",
       "2021-04-09         1.12  \n",
       "2021-04-10         1.12  \n",
       "2021-04-11         1.14  \n",
       "2021-04-12         1.12  \n",
       "2021-04-13         1.09  \n",
       "2021-04-14         1.06  \n",
       "2021-04-15         1.02  \n",
       "2021-04-16         1.01  \n",
       "2021-04-17         1.02  \n",
       "2021-04-18         1.03  \n",
       "2021-04-19         1.03  \n",
       "2021-04-20         1.04  \n",
       "2021-04-21         1.02  \n",
       "2021-04-22         1.00  \n",
       "2021-04-23         0.98  \n",
       "2021-04-24         0.95  \n",
       "2021-04-25         0.93  \n",
       "2021-04-26         0.91  \n",
       "2021-04-27         0.89  \n",
       "2021-04-28         0.88  \n",
       "2021-04-29         0.88  \n",
       "2021-04-30         0.88  \n",
       "2021-05-01         0.88  \n",
       "2021-05-02         0.88  \n",
       "2021-05-03         0.88  \n",
       "2021-05-04         0.87  \n",
       "2021-05-05         0.87  \n",
       "2021-05-06         0.87  \n",
       "2021-05-07         0.87  \n",
       "2021-05-08         0.86  \n",
       "2021-05-09         0.85  \n",
       "2021-05-10         0.84  \n",
       "2021-05-11         0.82  \n",
       "2021-05-12         0.80  \n",
       "2021-05-13         0.80  \n",
       "2021-05-14         0.80  \n",
       "2021-05-15         0.81  \n",
       "2021-05-16         0.81  \n",
       "2021-05-17         0.81  \n",
       "2021-05-18         0.80  \n",
       "2021-05-19         0.80  \n",
       "2021-05-20         0.81  \n",
       "2021-05-21         0.80  \n",
       "2021-05-22         0.79  \n",
       "2021-05-23         0.74  \n",
       "2021-05-24         0.73  \n",
       "2021-05-25         0.73  \n",
       "2021-05-26         0.75  \n",
       "2021-05-27         0.80  \n",
       "2021-05-28         0.81  \n",
       "2021-05-29         0.82  \n",
       "2021-05-30         0.84  \n",
       "2021-05-31         0.81  \n",
       "2021-06-01         0.80  \n",
       "2021-06-02         0.77  \n",
       "2021-06-03         0.74  \n",
       "2021-06-04         0.74  \n",
       "2021-06-05          NaN  \n",
       "2021-06-06          NaN  \n",
       "2021-06-07          NaN  \n",
       "2021-06-08          NaN  "
      ],
      "text/html": "<div>\n<style scoped>\n    .dataframe tbody tr th:only-of-type {\n        vertical-align: middle;\n    }\n\n    .dataframe tbody tr th {\n        vertical-align: top;\n    }\n\n    .dataframe thead th {\n        text-align: right;\n    }\n</style>\n<table border=\"1\" class=\"dataframe\">\n  <thead>\n    <tr style=\"text-align: right;\">\n      <th></th>\n      <th>new_known_case</th>\n      <th>newly_deceased</th>\n      <th>share_ever_rapid_test</th>\n      <th>share_rapid_test_in_last_week</th>\n      <th>share_b117</th>\n      <th>ever_vaccinated</th>\n      <th>r_effective</th>\n    </tr>\n    <tr>\n      <th>date</th>\n      <th></th>\n      <th></th>\n      <th></th>\n      <th></th>\n      <th></th>\n      <th></th>\n      <th></th>\n    </tr>\n  </thead>\n  <tbody>\n    <tr>\n      <th>2021-02-01</th>\n      <td>87.852</td>\n      <td>3.265</td>\n      <td>NaN</td>\n      <td>NaN</td>\n      <td>0.051</td>\n      <td>0.024</td>\n      <td>0.89</td>\n    </tr>\n    <tr>\n      <th>2021-02-02</th>\n      <td>84.592</td>\n      <td>3.100</td>\n      <td>NaN</td>\n      <td>NaN</td>\n      <td>0.054</td>\n      <td>0.025</td>\n      <td>0.90</td>\n    </tr>\n    <tr>\n      <th>2021-02-03</th>\n      <td>82.466</td>\n      <td>2.996</td>\n      <td>NaN</td>\n      <td>NaN</td>\n      <td>0.058</td>\n      <td>0.025</td>\n      <td>0.89</td>\n    </tr>\n    <tr>\n      <th>2021-02-04</th>\n      <td>80.263</td>\n      <td>2.913</td>\n      <td>NaN</td>\n      <td>NaN</td>\n      <td>0.061</td>\n      <td>0.026</td>\n      <td>0.89</td>\n    </tr>\n    <tr>\n      <th>2021-02-05</th>\n      <td>77.436</td>\n      <td>2.769</td>\n      <td>NaN</td>\n      <td>NaN</td>\n      <td>0.065</td>\n      <td>0.027</td>\n      <td>0.89</td>\n    </tr>\n    <tr>\n      <th>2021-02-06</th>\n      <td>75.217</td>\n      <td>2.649</td>\n      <td>NaN</td>\n      <td>NaN</td>\n      <td>0.068</td>\n      <td>0.028</td>\n      <td>0.89</td>\n    </tr>\n    <tr>\n      <th>2021-02-07</th>\n      <td>73.648</td>\n      <td>2.594</td>\n      <td>NaN</td>\n      <td>NaN</td>\n      <td>0.072</td>\n      <td>0.028</td>\n      <td>0.88</td>\n    </tr>\n    <tr>\n      <th>2021-02-08</th>\n      <td>71.271</td>\n      <td>2.469</td>\n      <td>NaN</td>\n      <td>NaN</td>\n      <td>0.087</td>\n      <td>0.029</td>\n      <td>0.88</td>\n    </tr>\n    <tr>\n      <th>2021-02-09</th>\n      <td>68.467</td>\n      <td>2.352</td>\n      <td>NaN</td>\n      <td>NaN</td>\n      <td>0.102</td>\n      <td>0.029</td>\n      <td>0.88</td>\n    </tr>\n    <tr>\n      <th>2021-02-10</th>\n      <td>65.737</td>\n      <td>2.182</td>\n      <td>NaN</td>\n      <td>NaN</td>\n      <td>0.117</td>\n      <td>0.030</td>\n      <td>0.89</td>\n    </tr>\n    <tr>\n      <th>2021-02-11</th>\n      <td>63.719</td>\n      <td>2.063</td>\n      <td>NaN</td>\n      <td>NaN</td>\n      <td>0.131</td>\n      <td>0.031</td>\n      <td>0.91</td>\n    </tr>\n    <tr>\n      <th>2021-02-12</th>\n      <td>62.620</td>\n      <td>1.986</td>\n      <td>NaN</td>\n      <td>NaN</td>\n      <td>0.146</td>\n      <td>0.032</td>\n      <td>0.94</td>\n    </tr>\n    <tr>\n      <th>2021-02-13</th>\n      <td>60.925</td>\n      <td>1.936</td>\n      <td>NaN</td>\n      <td>NaN</td>\n      <td>0.161</td>\n      <td>0.033</td>\n      <td>0.97</td>\n    </tr>\n    <tr>\n      <th>2021-02-14</th>\n      <td>61.365</td>\n      <td>1.907</td>\n      <td>NaN</td>\n      <td>NaN</td>\n      <td>0.176</td>\n      <td>0.033</td>\n      <td>0.99</td>\n    </tr>\n    <tr>\n      <th>2021-02-15</th>\n      <td>61.784</td>\n      <td>1.884</td>\n      <td>NaN</td>\n      <td>NaN</td>\n      <td>0.188</td>\n      <td>0.034</td>\n      <td>1.01</td>\n    </tr>\n    <tr>\n      <th>2021-02-16</th>\n      <td>62.127</td>\n      <td>1.863</td>\n      <td>NaN</td>\n      <td>NaN</td>\n      <td>0.200</td>\n      <td>0.035</td>\n      <td>1.03</td>\n    </tr>\n    <tr>\n      <th>2021-02-17</th>\n      <td>62.390</td>\n      <td>1.852</td>\n      <td>NaN</td>\n      <td>NaN</td>\n      <td>0.212</td>\n      <td>0.036</td>\n      <td>1.05</td>\n    </tr>\n    <tr>\n      <th>2021-02-18</th>\n      <td>63.090</td>\n      <td>1.812</td>\n      <td>NaN</td>\n      <td>NaN</td>\n      <td>0.223</td>\n      <td>0.037</td>\n      <td>1.06</td>\n    </tr>\n    <tr>\n      <th>2021-02-19</th>\n      <td>63.542</td>\n      <td>1.780</td>\n      <td>NaN</td>\n      <td>NaN</td>\n      <td>0.235</td>\n      <td>0.039</td>\n      <td>1.07</td>\n    </tr>\n    <tr>\n      <th>2021-02-20</th>\n      <td>65.416</td>\n      <td>1.763</td>\n      <td>NaN</td>\n      <td>NaN</td>\n      <td>0.247</td>\n      <td>0.039</td>\n      <td>1.06</td>\n    </tr>\n    <tr>\n      <th>2021-02-21</th>\n      <td>65.367</td>\n      <td>1.743</td>\n      <td>NaN</td>\n      <td>NaN</td>\n      <td>0.259</td>\n      <td>0.040</td>\n      <td>1.05</td>\n    </tr>\n    <tr>\n      <th>2021-02-22</th>\n      <td>65.734</td>\n      <td>1.720</td>\n      <td>NaN</td>\n      <td>NaN</td>\n      <td>0.279</td>\n      <td>0.041</td>\n      <td>1.04</td>\n    </tr>\n    <tr>\n      <th>2021-02-23</th>\n      <td>66.573</td>\n      <td>1.649</td>\n      <td>0.228</td>\n      <td>NaN</td>\n      <td>0.299</td>\n      <td>0.043</td>\n      <td>1.02</td>\n    </tr>\n    <tr>\n      <th>2021-02-24</th>\n      <td>67.030</td>\n      <td>1.566</td>\n      <td>NaN</td>\n      <td>NaN</td>\n      <td>0.319</td>\n      <td>0.044</td>\n      <td>1.01</td>\n    </tr>\n    <tr>\n      <th>2021-02-25</th>\n      <td>67.099</td>\n      <td>1.496</td>\n      <td>NaN</td>\n      <td>NaN</td>\n      <td>0.340</td>\n      <td>0.046</td>\n      <td>1.01</td>\n    </tr>\n    <tr>\n      <th>2021-02-26</th>\n      <td>67.671</td>\n      <td>1.454</td>\n      <td>NaN</td>\n      <td>NaN</td>\n      <td>0.360</td>\n      <td>0.047</td>\n      <td>1.00</td>\n    </tr>\n    <tr>\n      <th>2021-02-27</th>\n      <td>67.589</td>\n      <td>1.443</td>\n      <td>NaN</td>\n      <td>NaN</td>\n      <td>0.380</td>\n      <td>0.049</td>\n      <td>1.00</td>\n    </tr>\n    <tr>\n      <th>2021-02-28</th>\n      <td>68.223</td>\n      <td>1.428</td>\n      <td>NaN</td>\n      <td>NaN</td>\n      <td>0.400</td>\n      <td>0.050</td>\n      <td>1.02</td>\n    </tr>\n    <tr>\n      <th>2021-03-01</th>\n      <td>68.896</td>\n      <td>1.376</td>\n      <td>NaN</td>\n      <td>NaN</td>\n      <td>0.421</td>\n      <td>0.051</td>\n      <td>1.02</td>\n    </tr>\n    <tr>\n      <th>2021-03-02</th>\n      <td>69.463</td>\n      <td>1.325</td>\n      <td>NaN</td>\n      <td>NaN</td>\n      <td>0.441</td>\n      <td>0.053</td>\n      <td>1.04</td>\n    </tr>\n    <tr>\n      <th>2021-03-03</th>\n      <td>70.186</td>\n      <td>1.265</td>\n      <td>NaN</td>\n      <td>NaN</td>\n      <td>0.462</td>\n      <td>0.056</td>\n      <td>1.05</td>\n    </tr>\n    <tr>\n      <th>2021-03-04</th>\n      <td>71.072</td>\n      <td>1.240</td>\n      <td>NaN</td>\n      <td>NaN</td>\n      <td>0.483</td>\n      <td>0.058</td>\n      <td>1.06</td>\n    </tr>\n    <tr>\n      <th>2021-03-05</th>\n      <td>71.813</td>\n      <td>1.220</td>\n      <td>NaN</td>\n      <td>NaN</td>\n      <td>0.504</td>\n      <td>0.060</td>\n      <td>1.08</td>\n    </tr>\n    <tr>\n      <th>2021-03-06</th>\n      <td>72.839</td>\n      <td>1.212</td>\n      <td>NaN</td>\n      <td>NaN</td>\n      <td>0.524</td>\n      <td>0.062</td>\n      <td>1.10</td>\n    </tr>\n    <tr>\n      <th>2021-03-07</th>\n      <td>73.740</td>\n      <td>1.222</td>\n      <td>NaN</td>\n      <td>NaN</td>\n      <td>0.545</td>\n      <td>0.063</td>\n      <td>1.12</td>\n    </tr>\n    <tr>\n      <th>2021-03-08</th>\n      <td>75.247</td>\n      <td>1.227</td>\n      <td>NaN</td>\n      <td>NaN</td>\n      <td>0.558</td>\n      <td>0.066</td>\n      <td>1.14</td>\n    </tr>\n    <tr>\n      <th>2021-03-09</th>\n      <td>77.280</td>\n      <td>1.224</td>\n      <td>0.269</td>\n      <td>NaN</td>\n      <td>0.571</td>\n      <td>0.068</td>\n      <td>1.15</td>\n    </tr>\n    <tr>\n      <th>2021-03-10</th>\n      <td>80.627</td>\n      <td>1.271</td>\n      <td>NaN</td>\n      <td>NaN</td>\n      <td>0.584</td>\n      <td>0.071</td>\n      <td>1.17</td>\n    </tr>\n    <tr>\n      <th>2021-03-11</th>\n      <td>84.247</td>\n      <td>1.306</td>\n      <td>NaN</td>\n      <td>NaN</td>\n      <td>0.597</td>\n      <td>0.073</td>\n      <td>1.17</td>\n    </tr>\n    <tr>\n      <th>2021-03-12</th>\n      <td>88.060</td>\n      <td>1.331</td>\n      <td>NaN</td>\n      <td>NaN</td>\n      <td>0.610</td>\n      <td>0.076</td>\n      <td>1.17</td>\n    </tr>\n    <tr>\n      <th>2021-03-13</th>\n      <td>91.540</td>\n      <td>1.334</td>\n      <td>NaN</td>\n      <td>NaN</td>\n      <td>0.623</td>\n      <td>0.079</td>\n      <td>1.17</td>\n    </tr>\n    <tr>\n      <th>2021-03-14</th>\n      <td>94.412</td>\n      <td>1.347</td>\n      <td>NaN</td>\n      <td>NaN</td>\n      <td>0.636</td>\n      <td>0.080</td>\n      <td>1.17</td>\n    </tr>\n    <tr>\n      <th>2021-03-15</th>\n      <td>97.981</td>\n      <td>1.348</td>\n      <td>NaN</td>\n      <td>NaN</td>\n      <td>0.647</td>\n      <td>0.083</td>\n      <td>1.17</td>\n    </tr>\n    <tr>\n      <th>2021-03-16</th>\n      <td>102.405</td>\n      <td>1.390</td>\n      <td>NaN</td>\n      <td>NaN</td>\n      <td>0.658</td>\n      <td>0.084</td>\n      <td>1.17</td>\n    </tr>\n    <tr>\n      <th>2021-03-17</th>\n      <td>106.976</td>\n      <td>1.413</td>\n      <td>NaN</td>\n      <td>NaN</td>\n      <td>0.669</td>\n      <td>0.086</td>\n      <td>1.16</td>\n    </tr>\n    <tr>\n      <th>2021-03-18</th>\n      <td>110.398</td>\n      <td>1.437</td>\n      <td>NaN</td>\n      <td>NaN</td>\n      <td>0.680</td>\n      <td>0.087</td>\n      <td>1.14</td>\n    </tr>\n    <tr>\n      <th>2021-03-19</th>\n      <td>113.499</td>\n      <td>1.473</td>\n      <td>NaN</td>\n      <td>NaN</td>\n      <td>0.691</td>\n      <td>0.089</td>\n      <td>1.13</td>\n    </tr>\n    <tr>\n      <th>2021-03-20</th>\n      <td>116.608</td>\n      <td>1.498</td>\n      <td>NaN</td>\n      <td>NaN</td>\n      <td>0.702</td>\n      <td>0.091</td>\n      <td>1.13</td>\n    </tr>\n    <tr>\n      <th>2021-03-21</th>\n      <td>118.928</td>\n      <td>1.517</td>\n      <td>NaN</td>\n      <td>NaN</td>\n      <td>0.713</td>\n      <td>0.093</td>\n      <td>1.13</td>\n    </tr>\n    <tr>\n      <th>2021-03-22</th>\n      <td>122.269</td>\n      <td>1.536</td>\n      <td>NaN</td>\n      <td>NaN</td>\n      <td>0.723</td>\n      <td>0.095</td>\n      <td>1.14</td>\n    </tr>\n    <tr>\n      <th>2021-03-23</th>\n      <td>126.230</td>\n      <td>1.620</td>\n      <td>0.312</td>\n      <td>NaN</td>\n      <td>0.734</td>\n      <td>0.097</td>\n      <td>1.13</td>\n    </tr>\n    <tr>\n      <th>2021-03-24</th>\n      <td>130.277</td>\n      <td>1.654</td>\n      <td>NaN</td>\n      <td>NaN</td>\n      <td>0.744</td>\n      <td>0.100</td>\n      <td>1.12</td>\n    </tr>\n    <tr>\n      <th>2021-03-25</th>\n      <td>135.061</td>\n      <td>1.704</td>\n      <td>NaN</td>\n      <td>NaN</td>\n      <td>0.754</td>\n      <td>0.103</td>\n      <td>1.10</td>\n    </tr>\n    <tr>\n      <th>2021-03-26</th>\n      <td>138.859</td>\n      <td>1.736</td>\n      <td>NaN</td>\n      <td>NaN</td>\n      <td>0.764</td>\n      <td>0.107</td>\n      <td>1.06</td>\n    </tr>\n    <tr>\n      <th>2021-03-27</th>\n      <td>140.708</td>\n      <td>1.775</td>\n      <td>NaN</td>\n      <td>NaN</td>\n      <td>0.775</td>\n      <td>0.110</td>\n      <td>1.03</td>\n    </tr>\n    <tr>\n      <th>2021-03-28</th>\n      <td>141.045</td>\n      <td>1.792</td>\n      <td>NaN</td>\n      <td>NaN</td>\n      <td>0.785</td>\n      <td>0.111</td>\n      <td>1.00</td>\n    </tr>\n    <tr>\n      <th>2021-03-29</th>\n      <td>141.583</td>\n      <td>1.853</td>\n      <td>NaN</td>\n      <td>NaN</td>\n      <td>0.791</td>\n      <td>0.114</td>\n      <td>0.98</td>\n    </tr>\n    <tr>\n      <th>2021-03-30</th>\n      <td>141.169</td>\n      <td>1.829</td>\n      <td>NaN</td>\n      <td>NaN</td>\n      <td>0.796</td>\n      <td>0.117</td>\n      <td>0.96</td>\n    </tr>\n    <tr>\n      <th>2021-03-31</th>\n      <td>140.769</td>\n      <td>1.846</td>\n      <td>NaN</td>\n      <td>NaN</td>\n      <td>0.802</td>\n      <td>0.120</td>\n      <td>0.96</td>\n    </tr>\n    <tr>\n      <th>2021-04-01</th>\n      <td>141.116</td>\n      <td>1.849</td>\n      <td>NaN</td>\n      <td>NaN</td>\n      <td>0.807</td>\n      <td>0.123</td>\n      <td>0.96</td>\n    </tr>\n    <tr>\n      <th>2021-04-02</th>\n      <td>138.007</td>\n      <td>1.812</td>\n      <td>NaN</td>\n      <td>NaN</td>\n      <td>0.813</td>\n      <td>0.124</td>\n      <td>0.96</td>\n    </tr>\n    <tr>\n      <th>2021-04-03</th>\n      <td>135.051</td>\n      <td>1.829</td>\n      <td>NaN</td>\n      <td>NaN</td>\n      <td>0.818</td>\n      <td>0.126</td>\n      <td>0.98</td>\n    </tr>\n    <tr>\n      <th>2021-04-04</th>\n      <td>135.410</td>\n      <td>1.830</td>\n      <td>NaN</td>\n      <td>NaN</td>\n      <td>0.824</td>\n      <td>0.128</td>\n      <td>0.97</td>\n    </tr>\n    <tr>\n      <th>2021-04-05</th>\n      <td>131.943</td>\n      <td>1.758</td>\n      <td>NaN</td>\n      <td>NaN</td>\n      <td>0.828</td>\n      <td>0.130</td>\n      <td>1.00</td>\n    </tr>\n    <tr>\n      <th>2021-04-06</th>\n      <td>129.740</td>\n      <td>1.761</td>\n      <td>NaN</td>\n      <td>NaN</td>\n      <td>0.832</td>\n      <td>0.134</td>\n      <td>1.03</td>\n    </tr>\n    <tr>\n      <th>2021-04-07</th>\n      <td>131.245</td>\n      <td>1.743</td>\n      <td>0.444</td>\n      <td>NaN</td>\n      <td>0.836</td>\n      <td>0.141</td>\n      <td>1.06</td>\n    </tr>\n    <tr>\n      <th>2021-04-08</th>\n      <td>134.165</td>\n      <td>1.745</td>\n      <td>NaN</td>\n      <td>NaN</td>\n      <td>0.841</td>\n      <td>0.148</td>\n      <td>1.11</td>\n    </tr>\n    <tr>\n      <th>2021-04-09</th>\n      <td>139.982</td>\n      <td>1.752</td>\n      <td>NaN</td>\n      <td>NaN</td>\n      <td>0.845</td>\n      <td>0.155</td>\n      <td>1.12</td>\n    </tr>\n    <tr>\n      <th>2021-04-10</th>\n      <td>146.324</td>\n      <td>1.769</td>\n      <td>NaN</td>\n      <td>NaN</td>\n      <td>0.849</td>\n      <td>0.159</td>\n      <td>1.12</td>\n    </tr>\n    <tr>\n      <th>2021-04-11</th>\n      <td>148.445</td>\n      <td>1.742</td>\n      <td>NaN</td>\n      <td>NaN</td>\n      <td>0.853</td>\n      <td>0.161</td>\n      <td>1.14</td>\n    </tr>\n    <tr>\n      <th>2021-04-12</th>\n      <td>155.043</td>\n      <td>1.792</td>\n      <td>NaN</td>\n      <td>NaN</td>\n      <td>0.859</td>\n      <td>0.165</td>\n      <td>1.12</td>\n    </tr>\n    <tr>\n      <th>2021-04-13</th>\n      <td>162.730</td>\n      <td>1.776</td>\n      <td>NaN</td>\n      <td>NaN</td>\n      <td>0.865</td>\n      <td>0.171</td>\n      <td>1.09</td>\n    </tr>\n    <tr>\n      <th>2021-04-14</th>\n      <td>166.298</td>\n      <td>1.787</td>\n      <td>NaN</td>\n      <td>NaN</td>\n      <td>0.871</td>\n      <td>0.180</td>\n      <td>1.06</td>\n    </tr>\n    <tr>\n      <th>2021-04-15</th>\n      <td>166.075</td>\n      <td>1.742</td>\n      <td>NaN</td>\n      <td>NaN</td>\n      <td>0.877</td>\n      <td>0.187</td>\n      <td>1.02</td>\n    </tr>\n    <tr>\n      <th>2021-04-16</th>\n      <td>167.451</td>\n      <td>1.764</td>\n      <td>NaN</td>\n      <td>NaN</td>\n      <td>0.883</td>\n      <td>0.193</td>\n      <td>1.01</td>\n    </tr>\n    <tr>\n      <th>2021-04-17</th>\n      <td>167.658</td>\n      <td>1.722</td>\n      <td>NaN</td>\n      <td>NaN</td>\n      <td>0.889</td>\n      <td>0.197</td>\n      <td>1.02</td>\n    </tr>\n    <tr>\n      <th>2021-04-18</th>\n      <td>169.290</td>\n      <td>1.764</td>\n      <td>NaN</td>\n      <td>NaN</td>\n      <td>0.895</td>\n      <td>0.200</td>\n      <td>1.03</td>\n    </tr>\n    <tr>\n      <th>2021-04-19</th>\n      <td>170.407</td>\n      <td>1.727</td>\n      <td>NaN</td>\n      <td>NaN</td>\n      <td>0.898</td>\n      <td>0.204</td>\n      <td>1.03</td>\n    </tr>\n    <tr>\n      <th>2021-04-20</th>\n      <td>172.314</td>\n      <td>1.739</td>\n      <td>0.559</td>\n      <td>0.295</td>\n      <td>0.900</td>\n      <td>0.210</td>\n      <td>1.04</td>\n    </tr>\n    <tr>\n      <th>2021-04-21</th>\n      <td>173.477</td>\n      <td>1.710</td>\n      <td>NaN</td>\n      <td>NaN</td>\n      <td>0.903</td>\n      <td>0.217</td>\n      <td>1.02</td>\n    </tr>\n    <tr>\n      <th>2021-04-22</th>\n      <td>174.139</td>\n      <td>1.707</td>\n      <td>NaN</td>\n      <td>NaN</td>\n      <td>0.905</td>\n      <td>0.224</td>\n      <td>1.00</td>\n    </tr>\n    <tr>\n      <th>2021-04-23</th>\n      <td>173.504</td>\n      <td>1.677</td>\n      <td>NaN</td>\n      <td>NaN</td>\n      <td>0.908</td>\n      <td>0.230</td>\n      <td>0.98</td>\n    </tr>\n    <tr>\n      <th>2021-04-24</th>\n      <td>172.687</td>\n      <td>1.661</td>\n      <td>NaN</td>\n      <td>NaN</td>\n      <td>0.910</td>\n      <td>0.234</td>\n      <td>0.95</td>\n    </tr>\n    <tr>\n      <th>2021-04-25</th>\n      <td>170.605</td>\n      <td>1.593</td>\n      <td>NaN</td>\n      <td>NaN</td>\n      <td>0.913</td>\n      <td>0.237</td>\n      <td>0.93</td>\n    </tr>\n    <tr>\n      <th>2021-04-26</th>\n      <td>168.112</td>\n      <td>1.548</td>\n      <td>NaN</td>\n      <td>NaN</td>\n      <td>0.912</td>\n      <td>0.241</td>\n      <td>0.91</td>\n    </tr>\n    <tr>\n      <th>2021-04-27</th>\n      <td>163.486</td>\n      <td>1.453</td>\n      <td>NaN</td>\n      <td>NaN</td>\n      <td>0.912</td>\n      <td>0.249</td>\n      <td>0.89</td>\n    </tr>\n    <tr>\n      <th>2021-04-28</th>\n      <td>158.781</td>\n      <td>1.414</td>\n      <td>NaN</td>\n      <td>NaN</td>\n      <td>0.911</td>\n      <td>0.261</td>\n      <td>0.88</td>\n    </tr>\n    <tr>\n      <th>2021-04-29</th>\n      <td>153.671</td>\n      <td>1.345</td>\n      <td>NaN</td>\n      <td>NaN</td>\n      <td>0.910</td>\n      <td>0.271</td>\n      <td>0.88</td>\n    </tr>\n    <tr>\n      <th>2021-04-30</th>\n      <td>148.890</td>\n      <td>1.300</td>\n      <td>NaN</td>\n      <td>NaN</td>\n      <td>0.909</td>\n      <td>0.279</td>\n      <td>0.88</td>\n    </tr>\n    <tr>\n      <th>2021-05-01</th>\n      <td>145.169</td>\n      <td>1.252</td>\n      <td>NaN</td>\n      <td>NaN</td>\n      <td>0.909</td>\n      <td>0.282</td>\n      <td>0.88</td>\n    </tr>\n    <tr>\n      <th>2021-05-02</th>\n      <td>141.822</td>\n      <td>1.225</td>\n      <td>NaN</td>\n      <td>NaN</td>\n      <td>0.908</td>\n      <td>0.285</td>\n      <td>0.88</td>\n    </tr>\n    <tr>\n      <th>2021-05-03</th>\n      <td>137.323</td>\n      <td>1.173</td>\n      <td>NaN</td>\n      <td>NaN</td>\n      <td>0.902</td>\n      <td>0.289</td>\n      <td>0.88</td>\n    </tr>\n    <tr>\n      <th>2021-05-04</th>\n      <td>133.388</td>\n      <td>1.153</td>\n      <td>0.637</td>\n      <td>0.422</td>\n      <td>0.897</td>\n      <td>0.297</td>\n      <td>0.87</td>\n    </tr>\n    <tr>\n      <th>2021-05-05</th>\n      <td>128.581</td>\n      <td>1.073</td>\n      <td>NaN</td>\n      <td>NaN</td>\n      <td>0.891</td>\n      <td>0.308</td>\n      <td>0.87</td>\n    </tr>\n    <tr>\n      <th>2021-05-06</th>\n      <td>124.154</td>\n      <td>1.012</td>\n      <td>NaN</td>\n      <td>NaN</td>\n      <td>0.885</td>\n      <td>0.317</td>\n      <td>0.87</td>\n    </tr>\n    <tr>\n      <th>2021-05-07</th>\n      <td>119.512</td>\n      <td>0.954</td>\n      <td>NaN</td>\n      <td>NaN</td>\n      <td>0.879</td>\n      <td>0.325</td>\n      <td>0.87</td>\n    </tr>\n    <tr>\n      <th>2021-05-08</th>\n      <td>115.142</td>\n      <td>0.875</td>\n      <td>NaN</td>\n      <td>NaN</td>\n      <td>0.874</td>\n      <td>0.328</td>\n      <td>0.86</td>\n    </tr>\n    <tr>\n      <th>2021-05-09</th>\n      <td>112.331</td>\n      <td>0.846</td>\n      <td>NaN</td>\n      <td>NaN</td>\n      <td>0.868</td>\n      <td>0.331</td>\n      <td>0.85</td>\n    </tr>\n    <tr>\n      <th>2021-05-10</th>\n      <td>108.436</td>\n      <td>0.806</td>\n      <td>NaN</td>\n      <td>NaN</td>\n      <td>NaN</td>\n      <td>0.335</td>\n      <td>0.84</td>\n    </tr>\n    <tr>\n      <th>2021-05-11</th>\n      <td>103.088</td>\n      <td>0.733</td>\n      <td>NaN</td>\n      <td>NaN</td>\n      <td>NaN</td>\n      <td>0.345</td>\n      <td>0.82</td>\n    </tr>\n    <tr>\n      <th>2021-05-12</th>\n      <td>97.949</td>\n      <td>0.692</td>\n      <td>NaN</td>\n      <td>NaN</td>\n      <td>NaN</td>\n      <td>0.358</td>\n      <td>0.80</td>\n    </tr>\n    <tr>\n      <th>2021-05-13</th>\n      <td>90.934</td>\n      <td>0.649</td>\n      <td>NaN</td>\n      <td>NaN</td>\n      <td>NaN</td>\n      <td>0.361</td>\n      <td>0.80</td>\n    </tr>\n    <tr>\n      <th>2021-05-14</th>\n      <td>84.237</td>\n      <td>0.569</td>\n      <td>NaN</td>\n      <td>NaN</td>\n      <td>NaN</td>\n      <td>0.367</td>\n      <td>0.80</td>\n    </tr>\n    <tr>\n      <th>2021-05-15</th>\n      <td>80.349</td>\n      <td>0.561</td>\n      <td>NaN</td>\n      <td>NaN</td>\n      <td>NaN</td>\n      <td>0.370</td>\n      <td>0.81</td>\n    </tr>\n    <tr>\n      <th>2021-05-16</th>\n      <td>77.971</td>\n      <td>0.540</td>\n      <td>NaN</td>\n      <td>NaN</td>\n      <td>NaN</td>\n      <td>0.372</td>\n      <td>0.81</td>\n    </tr>\n    <tr>\n      <th>2021-05-17</th>\n      <td>74.210</td>\n      <td>0.482</td>\n      <td>NaN</td>\n      <td>NaN</td>\n      <td>NaN</td>\n      <td>0.377</td>\n      <td>0.81</td>\n    </tr>\n    <tr>\n      <th>2021-05-18</th>\n      <td>70.046</td>\n      <td>0.440</td>\n      <td>0.683</td>\n      <td>0.435</td>\n      <td>NaN</td>\n      <td>0.383</td>\n      <td>0.80</td>\n    </tr>\n    <tr>\n      <th>2021-05-19</th>\n      <td>65.078</td>\n      <td>0.388</td>\n      <td>NaN</td>\n      <td>NaN</td>\n      <td>NaN</td>\n      <td>0.390</td>\n      <td>0.80</td>\n    </tr>\n    <tr>\n      <th>2021-05-20</th>\n      <td>63.059</td>\n      <td>0.348</td>\n      <td>NaN</td>\n      <td>NaN</td>\n      <td>NaN</td>\n      <td>0.395</td>\n      <td>0.81</td>\n    </tr>\n    <tr>\n      <th>2021-05-21</th>\n      <td>61.086</td>\n      <td>0.328</td>\n      <td>NaN</td>\n      <td>NaN</td>\n      <td>NaN</td>\n      <td>0.400</td>\n      <td>0.80</td>\n    </tr>\n    <tr>\n      <th>2021-05-22</th>\n      <td>57.583</td>\n      <td>0.290</td>\n      <td>NaN</td>\n      <td>NaN</td>\n      <td>NaN</td>\n      <td>0.403</td>\n      <td>0.79</td>\n    </tr>\n    <tr>\n      <th>2021-05-23</th>\n      <td>54.165</td>\n      <td>0.263</td>\n      <td>NaN</td>\n      <td>NaN</td>\n      <td>NaN</td>\n      <td>0.405</td>\n      <td>0.74</td>\n    </tr>\n    <tr>\n      <th>2021-05-24</th>\n      <td>49.661</td>\n      <td>0.236</td>\n      <td>NaN</td>\n      <td>NaN</td>\n      <td>NaN</td>\n      <td>0.407</td>\n      <td>0.73</td>\n    </tr>\n    <tr>\n      <th>2021-05-25</th>\n      <td>43.736</td>\n      <td>0.207</td>\n      <td>NaN</td>\n      <td>NaN</td>\n      <td>NaN</td>\n      <td>0.410</td>\n      <td>0.73</td>\n    </tr>\n    <tr>\n      <th>2021-05-26</th>\n      <td>40.143</td>\n      <td>0.187</td>\n      <td>NaN</td>\n      <td>NaN</td>\n      <td>NaN</td>\n      <td>0.417</td>\n      <td>0.75</td>\n    </tr>\n    <tr>\n      <th>2021-05-27</th>\n      <td>38.340</td>\n      <td>0.164</td>\n      <td>NaN</td>\n      <td>NaN</td>\n      <td>NaN</td>\n      <td>0.423</td>\n      <td>0.80</td>\n    </tr>\n    <tr>\n      <th>2021-05-28</th>\n      <td>36.073</td>\n      <td>0.145</td>\n      <td>NaN</td>\n      <td>NaN</td>\n      <td>NaN</td>\n      <td>0.428</td>\n      <td>0.81</td>\n    </tr>\n    <tr>\n      <th>2021-05-29</th>\n      <td>33.922</td>\n      <td>0.122</td>\n      <td>NaN</td>\n      <td>NaN</td>\n      <td>NaN</td>\n      <td>0.430</td>\n      <td>0.82</td>\n    </tr>\n    <tr>\n      <th>2021-05-30</th>\n      <td>32.877</td>\n      <td>0.111</td>\n      <td>NaN</td>\n      <td>NaN</td>\n      <td>NaN</td>\n      <td>0.432</td>\n      <td>0.84</td>\n    </tr>\n    <tr>\n      <th>2021-05-31</th>\n      <td>32.404</td>\n      <td>0.096</td>\n      <td>NaN</td>\n      <td>NaN</td>\n      <td>NaN</td>\n      <td>0.434</td>\n      <td>0.81</td>\n    </tr>\n    <tr>\n      <th>2021-06-01</th>\n      <td>32.011</td>\n      <td>0.080</td>\n      <td>NaN</td>\n      <td>NaN</td>\n      <td>NaN</td>\n      <td>0.440</td>\n      <td>0.80</td>\n    </tr>\n    <tr>\n      <th>2021-06-02</th>\n      <td>29.676</td>\n      <td>0.060</td>\n      <td>NaN</td>\n      <td>NaN</td>\n      <td>NaN</td>\n      <td>0.448</td>\n      <td>0.77</td>\n    </tr>\n    <tr>\n      <th>2021-06-03</th>\n      <td>NaN</td>\n      <td>NaN</td>\n      <td>NaN</td>\n      <td>NaN</td>\n      <td>NaN</td>\n      <td>0.451</td>\n      <td>0.74</td>\n    </tr>\n    <tr>\n      <th>2021-06-04</th>\n      <td>NaN</td>\n      <td>NaN</td>\n      <td>NaN</td>\n      <td>NaN</td>\n      <td>NaN</td>\n      <td>0.455</td>\n      <td>0.74</td>\n    </tr>\n    <tr>\n      <th>2021-06-05</th>\n      <td>NaN</td>\n      <td>NaN</td>\n      <td>NaN</td>\n      <td>NaN</td>\n      <td>NaN</td>\n      <td>0.457</td>\n      <td>NaN</td>\n    </tr>\n    <tr>\n      <th>2021-06-06</th>\n      <td>NaN</td>\n      <td>NaN</td>\n      <td>NaN</td>\n      <td>NaN</td>\n      <td>NaN</td>\n      <td>0.458</td>\n      <td>NaN</td>\n    </tr>\n    <tr>\n      <th>2021-06-07</th>\n      <td>NaN</td>\n      <td>NaN</td>\n      <td>NaN</td>\n      <td>NaN</td>\n      <td>NaN</td>\n      <td>0.461</td>\n      <td>NaN</td>\n    </tr>\n    <tr>\n      <th>2021-06-08</th>\n      <td>NaN</td>\n      <td>NaN</td>\n      <td>NaN</td>\n      <td>NaN</td>\n      <td>NaN</td>\n      <td>0.465</td>\n      <td>NaN</td>\n    </tr>\n  </tbody>\n</table>\n</div>"
     },
     "metadata": {},
     "execution_count": 6
    }
   ],
   "source": [
    "emp.loc[\"2021-02-01\":]"
   ]
  },
  {
   "cell_type": "code",
   "execution_count": 7,
   "metadata": {},
   "outputs": [],
   "source": [
    "only_npi = pd.read_csv(\"../figures/results/tables/scenario_comparisons/pessimistic_scenario/full_newly_infected.csv\").set_index(\"date\")\n",
    "rapid_t = pd.read_csv(\"../figures/results/tables/scenario_comparisons/effect_of_rapid_tests/full_newly_infected.csv\").set_index(\"date\")\n"
   ]
  },
  {
   "cell_type": "code",
   "execution_count": 8,
   "metadata": {},
   "outputs": [
    {
     "output_type": "execute_result",
     "data": {
      "text/plain": [
       "spring_no_effects    858.378744\n",
       "Name: 2021-04-01, dtype: float64"
      ]
     },
     "metadata": {},
     "execution_count": 8
    }
   ],
   "source": [
    "only_npi.loc[\"2021-04-01\"]"
   ]
  },
  {
   "cell_type": "code",
   "execution_count": 9,
   "metadata": {},
   "outputs": [
    {
     "output_type": "execute_result",
     "data": {
      "text/plain": [
       "spring_without_rapid_tests            402.706762\n",
       "spring_without_work_rapid_tests       311.331467\n",
       "spring_without_school_rapid_tests     271.701821\n",
       "spring_without_private_rapid_tests    312.945354\n",
       "spring_baseline                       252.574354\n",
       "Name: 2021-04-01, dtype: float64"
      ]
     },
     "metadata": {},
     "execution_count": 9
    }
   ],
   "source": [
    "rapid_t.loc[\"2021-04-01\"]"
   ]
  },
  {
   "cell_type": "code",
   "execution_count": 10,
   "metadata": {},
   "outputs": [
    {
     "output_type": "execute_result",
     "data": {
      "text/plain": [
       "0.5373065373065373"
      ]
     },
     "metadata": {},
     "execution_count": 10
    }
   ],
   "source": [
    "1 - 400.6 / 865.8"
   ]
  },
  {
   "cell_type": "code",
   "execution_count": 11,
   "metadata": {},
   "outputs": [],
   "source": [
    "r_t = pd.read_csv(\"../figures/results/tables/scenario_comparisons/school_scenarios/full_r_effective.csv\").set_index(\"date\")"
   ]
  },
  {
   "cell_type": "code",
   "execution_count": 12,
   "metadata": {},
   "outputs": [
    {
     "output_type": "execute_result",
     "data": {
      "text/plain": [
       "            spring_educ_open_after_easter_without_tests  \\\n",
       "date                                                      \n",
       "2021-04-06                                     1.013569   \n",
       "2021-04-07                                     1.013774   \n",
       "2021-04-08                                     1.014330   \n",
       "2021-04-09                                     1.009264   \n",
       "2021-04-10                                     1.005107   \n",
       "2021-04-11                                     0.998858   \n",
       "2021-04-12                                     0.995787   \n",
       "2021-04-13                                     0.992281   \n",
       "2021-04-14                                     0.986741   \n",
       "2021-04-15                                     0.982165   \n",
       "2021-04-16                                     0.979538   \n",
       "2021-04-17                                     0.972686   \n",
       "2021-04-18                                     0.963968   \n",
       "2021-04-19                                     0.958427   \n",
       "2021-04-20                                     0.953678   \n",
       "2021-04-21                                     0.949212   \n",
       "2021-04-22                                     0.946586   \n",
       "2021-04-23                                     0.941579   \n",
       "2021-04-24                                     0.933162   \n",
       "2021-04-25                                     0.924904   \n",
       "2021-04-26                                     0.920922   \n",
       "2021-04-27                                     0.914589   \n",
       "2021-04-28                                     0.911316   \n",
       "2021-04-29                                     0.904893   \n",
       "2021-04-30                                     0.897670   \n",
       "2021-05-01                                     0.891486   \n",
       "2021-05-02                                     0.882697   \n",
       "2021-05-03                                     0.877597   \n",
       "2021-05-04                                     0.870895   \n",
       "2021-05-05                                     0.870013   \n",
       "2021-05-06                                     0.863951   \n",
       "2021-05-07                                     0.857443   \n",
       "2021-05-08                                     0.853037   \n",
       "2021-05-09                                     0.844827   \n",
       "2021-05-10                                     0.840595   \n",
       "2021-05-11                                     0.837151   \n",
       "2021-05-12                                     0.835135   \n",
       "2021-05-13                                     0.829464   \n",
       "2021-05-14                                     0.820680   \n",
       "2021-05-15                                     0.817060   \n",
       "2021-05-16                                     0.805490   \n",
       "2021-05-17                                     0.801780   \n",
       "2021-05-18                                     0.793796   \n",
       "2021-05-19                                     0.790061   \n",
       "2021-05-20                                     0.785055   \n",
       "2021-05-21                                     0.776595   \n",
       "2021-05-22                                     0.772531   \n",
       "2021-05-23                                     0.769123   \n",
       "2021-05-24                                     0.765805   \n",
       "2021-05-25                                     0.764531   \n",
       "2021-05-26                                     0.762602   \n",
       "2021-05-27                                     0.759286   \n",
       "2021-05-28                                     0.752420   \n",
       "2021-05-29                                     0.751055   \n",
       "2021-05-30                                     0.748535   \n",
       "2021-05-31                                     0.742207   \n",
       "\n",
       "            spring_educ_open_after_easter_with_tests  \\\n",
       "date                                                   \n",
       "2021-04-06                                  1.013618   \n",
       "2021-04-07                                  1.014053   \n",
       "2021-04-08                                  1.015713   \n",
       "2021-04-09                                  1.011364   \n",
       "2021-04-10                                  1.007763   \n",
       "2021-04-11                                  1.001017   \n",
       "2021-04-12                                  0.996198   \n",
       "2021-04-13                                  0.992354   \n",
       "2021-04-14                                  0.984676   \n",
       "2021-04-15                                  0.979931   \n",
       "2021-04-16                                  0.970708   \n",
       "2021-04-17                                  0.960940   \n",
       "2021-04-18                                  0.951791   \n",
       "2021-04-19                                  0.942897   \n",
       "2021-04-20                                  0.934013   \n",
       "2021-04-21                                  0.924933   \n",
       "2021-04-22                                  0.919591   \n",
       "2021-04-23                                  0.909614   \n",
       "2021-04-24                                  0.901635   \n",
       "2021-04-25                                  0.891723   \n",
       "2021-04-26                                  0.881798   \n",
       "2021-04-27                                  0.875286   \n",
       "2021-04-28                                  0.872122   \n",
       "2021-04-29                                  0.867995   \n",
       "2021-04-30                                  0.860106   \n",
       "2021-05-01                                  0.851830   \n",
       "2021-05-02                                  0.842357   \n",
       "2021-05-03                                  0.838001   \n",
       "2021-05-04                                  0.832443   \n",
       "2021-05-05                                  0.828220   \n",
       "2021-05-06                                  0.822770   \n",
       "2021-05-07                                  0.815249   \n",
       "2021-05-08                                  0.808646   \n",
       "2021-05-09                                  0.801914   \n",
       "2021-05-10                                  0.799056   \n",
       "2021-05-11                                  0.793406   \n",
       "2021-05-12                                  0.787303   \n",
       "2021-05-13                                  0.783191   \n",
       "2021-05-14                                  0.777246   \n",
       "2021-05-15                                  0.773584   \n",
       "2021-05-16                                  0.766416   \n",
       "2021-05-17                                  0.768545   \n",
       "2021-05-18                                  0.765254   \n",
       "2021-05-19                                  0.760850   \n",
       "2021-05-20                                  0.758934   \n",
       "2021-05-21                                  0.754646   \n",
       "2021-05-22                                  0.751489   \n",
       "2021-05-23                                  0.742032   \n",
       "2021-05-24                                  0.744015   \n",
       "2021-05-25                                  0.734680   \n",
       "2021-05-26                                  0.731962   \n",
       "2021-05-27                                  0.731768   \n",
       "2021-05-28                                  0.728234   \n",
       "2021-05-29                                  0.724097   \n",
       "2021-05-30                                  0.715075   \n",
       "2021-05-31                                  0.717725   \n",
       "\n",
       "            spring_close_educ_after_easter  spring_baseline  \n",
       "date                                                         \n",
       "2021-04-06                        1.013023         1.013290  \n",
       "2021-04-07                        1.012643         1.013202  \n",
       "2021-04-08                        1.012318         1.014286  \n",
       "2021-04-09                        1.007465         1.009311  \n",
       "2021-04-10                        1.004282         1.006004  \n",
       "2021-04-11                        0.999548         0.999283  \n",
       "2021-04-12                        0.993348         0.993906  \n",
       "2021-04-13                        0.988268         0.988596  \n",
       "2021-04-14                        0.981287         0.981149  \n",
       "2021-04-15                        0.976986         0.976833  \n",
       "2021-04-16                        0.967729         0.967246  \n",
       "2021-04-17                        0.956598         0.956149  \n",
       "2021-04-18                        0.944944         0.944365  \n",
       "2021-04-19                        0.935084         0.933666  \n",
       "2021-04-20                        0.925778         0.923682  \n",
       "2021-04-21                        0.916807         0.914823  \n",
       "2021-04-22                        0.910414         0.906555  \n",
       "2021-04-23                        0.896950         0.893751  \n",
       "2021-04-24                        0.890866         0.883743  \n",
       "2021-04-25                        0.882372         0.873014  \n",
       "2021-04-26                        0.876542         0.862249  \n",
       "2021-04-27                        0.867518         0.856438  \n",
       "2021-04-28                        0.863413         0.851878  \n",
       "2021-04-29                        0.855637         0.845147  \n",
       "2021-04-30                        0.845406         0.837824  \n",
       "2021-05-01                        0.838989         0.832582  \n",
       "2021-05-02                        0.826847         0.823032  \n",
       "2021-05-03                        0.819474         0.818835  \n",
       "2021-05-04                        0.807974         0.813073  \n",
       "2021-05-05                        0.799792         0.807328  \n",
       "2021-05-06                        0.792322         0.801503  \n",
       "2021-05-07                        0.785456         0.796377  \n",
       "2021-05-08                        0.778168         0.790254  \n",
       "2021-05-09                        0.773058         0.779458  \n",
       "2021-05-10                        0.772566         0.776056  \n",
       "2021-05-11                        0.767644         0.770849  \n",
       "2021-05-12                        0.762370         0.768303  \n",
       "2021-05-13                        0.762435         0.763389  \n",
       "2021-05-14                        0.757544         0.756549  \n",
       "2021-05-15                        0.755577         0.752116  \n",
       "2021-05-16                        0.749942         0.746529  \n",
       "2021-05-17                        0.743017         0.745581  \n",
       "2021-05-18                        0.731503         0.743241  \n",
       "2021-05-19                        0.728029         0.738651  \n",
       "2021-05-20                        0.731252         0.734053  \n",
       "2021-05-21                        0.722993         0.732270  \n",
       "2021-05-22                        0.718754         0.733055  \n",
       "2021-05-23                        0.710557         0.723591  \n",
       "2021-05-24                        0.710843         0.720094  \n",
       "2021-05-25                        0.714862         0.714229  \n",
       "2021-05-26                        0.715373         0.711400  \n",
       "2021-05-27                        0.715837         0.711505  \n",
       "2021-05-28                        0.705113         0.708032  \n",
       "2021-05-29                        0.703202         0.699942  \n",
       "2021-05-30                        0.701665         0.693312  \n",
       "2021-05-31                        0.701588         0.691260  "
      ],
      "text/html": "<div>\n<style scoped>\n    .dataframe tbody tr th:only-of-type {\n        vertical-align: middle;\n    }\n\n    .dataframe tbody tr th {\n        vertical-align: top;\n    }\n\n    .dataframe thead th {\n        text-align: right;\n    }\n</style>\n<table border=\"1\" class=\"dataframe\">\n  <thead>\n    <tr style=\"text-align: right;\">\n      <th></th>\n      <th>spring_educ_open_after_easter_without_tests</th>\n      <th>spring_educ_open_after_easter_with_tests</th>\n      <th>spring_close_educ_after_easter</th>\n      <th>spring_baseline</th>\n    </tr>\n    <tr>\n      <th>date</th>\n      <th></th>\n      <th></th>\n      <th></th>\n      <th></th>\n    </tr>\n  </thead>\n  <tbody>\n    <tr>\n      <th>2021-04-06</th>\n      <td>1.013569</td>\n      <td>1.013618</td>\n      <td>1.013023</td>\n      <td>1.013290</td>\n    </tr>\n    <tr>\n      <th>2021-04-07</th>\n      <td>1.013774</td>\n      <td>1.014053</td>\n      <td>1.012643</td>\n      <td>1.013202</td>\n    </tr>\n    <tr>\n      <th>2021-04-08</th>\n      <td>1.014330</td>\n      <td>1.015713</td>\n      <td>1.012318</td>\n      <td>1.014286</td>\n    </tr>\n    <tr>\n      <th>2021-04-09</th>\n      <td>1.009264</td>\n      <td>1.011364</td>\n      <td>1.007465</td>\n      <td>1.009311</td>\n    </tr>\n    <tr>\n      <th>2021-04-10</th>\n      <td>1.005107</td>\n      <td>1.007763</td>\n      <td>1.004282</td>\n      <td>1.006004</td>\n    </tr>\n    <tr>\n      <th>2021-04-11</th>\n      <td>0.998858</td>\n      <td>1.001017</td>\n      <td>0.999548</td>\n      <td>0.999283</td>\n    </tr>\n    <tr>\n      <th>2021-04-12</th>\n      <td>0.995787</td>\n      <td>0.996198</td>\n      <td>0.993348</td>\n      <td>0.993906</td>\n    </tr>\n    <tr>\n      <th>2021-04-13</th>\n      <td>0.992281</td>\n      <td>0.992354</td>\n      <td>0.988268</td>\n      <td>0.988596</td>\n    </tr>\n    <tr>\n      <th>2021-04-14</th>\n      <td>0.986741</td>\n      <td>0.984676</td>\n      <td>0.981287</td>\n      <td>0.981149</td>\n    </tr>\n    <tr>\n      <th>2021-04-15</th>\n      <td>0.982165</td>\n      <td>0.979931</td>\n      <td>0.976986</td>\n      <td>0.976833</td>\n    </tr>\n    <tr>\n      <th>2021-04-16</th>\n      <td>0.979538</td>\n      <td>0.970708</td>\n      <td>0.967729</td>\n      <td>0.967246</td>\n    </tr>\n    <tr>\n      <th>2021-04-17</th>\n      <td>0.972686</td>\n      <td>0.960940</td>\n      <td>0.956598</td>\n      <td>0.956149</td>\n    </tr>\n    <tr>\n      <th>2021-04-18</th>\n      <td>0.963968</td>\n      <td>0.951791</td>\n      <td>0.944944</td>\n      <td>0.944365</td>\n    </tr>\n    <tr>\n      <th>2021-04-19</th>\n      <td>0.958427</td>\n      <td>0.942897</td>\n      <td>0.935084</td>\n      <td>0.933666</td>\n    </tr>\n    <tr>\n      <th>2021-04-20</th>\n      <td>0.953678</td>\n      <td>0.934013</td>\n      <td>0.925778</td>\n      <td>0.923682</td>\n    </tr>\n    <tr>\n      <th>2021-04-21</th>\n      <td>0.949212</td>\n      <td>0.924933</td>\n      <td>0.916807</td>\n      <td>0.914823</td>\n    </tr>\n    <tr>\n      <th>2021-04-22</th>\n      <td>0.946586</td>\n      <td>0.919591</td>\n      <td>0.910414</td>\n      <td>0.906555</td>\n    </tr>\n    <tr>\n      <th>2021-04-23</th>\n      <td>0.941579</td>\n      <td>0.909614</td>\n      <td>0.896950</td>\n      <td>0.893751</td>\n    </tr>\n    <tr>\n      <th>2021-04-24</th>\n      <td>0.933162</td>\n      <td>0.901635</td>\n      <td>0.890866</td>\n      <td>0.883743</td>\n    </tr>\n    <tr>\n      <th>2021-04-25</th>\n      <td>0.924904</td>\n      <td>0.891723</td>\n      <td>0.882372</td>\n      <td>0.873014</td>\n    </tr>\n    <tr>\n      <th>2021-04-26</th>\n      <td>0.920922</td>\n      <td>0.881798</td>\n      <td>0.876542</td>\n      <td>0.862249</td>\n    </tr>\n    <tr>\n      <th>2021-04-27</th>\n      <td>0.914589</td>\n      <td>0.875286</td>\n      <td>0.867518</td>\n      <td>0.856438</td>\n    </tr>\n    <tr>\n      <th>2021-04-28</th>\n      <td>0.911316</td>\n      <td>0.872122</td>\n      <td>0.863413</td>\n      <td>0.851878</td>\n    </tr>\n    <tr>\n      <th>2021-04-29</th>\n      <td>0.904893</td>\n      <td>0.867995</td>\n      <td>0.855637</td>\n      <td>0.845147</td>\n    </tr>\n    <tr>\n      <th>2021-04-30</th>\n      <td>0.897670</td>\n      <td>0.860106</td>\n      <td>0.845406</td>\n      <td>0.837824</td>\n    </tr>\n    <tr>\n      <th>2021-05-01</th>\n      <td>0.891486</td>\n      <td>0.851830</td>\n      <td>0.838989</td>\n      <td>0.832582</td>\n    </tr>\n    <tr>\n      <th>2021-05-02</th>\n      <td>0.882697</td>\n      <td>0.842357</td>\n      <td>0.826847</td>\n      <td>0.823032</td>\n    </tr>\n    <tr>\n      <th>2021-05-03</th>\n      <td>0.877597</td>\n      <td>0.838001</td>\n      <td>0.819474</td>\n      <td>0.818835</td>\n    </tr>\n    <tr>\n      <th>2021-05-04</th>\n      <td>0.870895</td>\n      <td>0.832443</td>\n      <td>0.807974</td>\n      <td>0.813073</td>\n    </tr>\n    <tr>\n      <th>2021-05-05</th>\n      <td>0.870013</td>\n      <td>0.828220</td>\n      <td>0.799792</td>\n      <td>0.807328</td>\n    </tr>\n    <tr>\n      <th>2021-05-06</th>\n      <td>0.863951</td>\n      <td>0.822770</td>\n      <td>0.792322</td>\n      <td>0.801503</td>\n    </tr>\n    <tr>\n      <th>2021-05-07</th>\n      <td>0.857443</td>\n      <td>0.815249</td>\n      <td>0.785456</td>\n      <td>0.796377</td>\n    </tr>\n    <tr>\n      <th>2021-05-08</th>\n      <td>0.853037</td>\n      <td>0.808646</td>\n      <td>0.778168</td>\n      <td>0.790254</td>\n    </tr>\n    <tr>\n      <th>2021-05-09</th>\n      <td>0.844827</td>\n      <td>0.801914</td>\n      <td>0.773058</td>\n      <td>0.779458</td>\n    </tr>\n    <tr>\n      <th>2021-05-10</th>\n      <td>0.840595</td>\n      <td>0.799056</td>\n      <td>0.772566</td>\n      <td>0.776056</td>\n    </tr>\n    <tr>\n      <th>2021-05-11</th>\n      <td>0.837151</td>\n      <td>0.793406</td>\n      <td>0.767644</td>\n      <td>0.770849</td>\n    </tr>\n    <tr>\n      <th>2021-05-12</th>\n      <td>0.835135</td>\n      <td>0.787303</td>\n      <td>0.762370</td>\n      <td>0.768303</td>\n    </tr>\n    <tr>\n      <th>2021-05-13</th>\n      <td>0.829464</td>\n      <td>0.783191</td>\n      <td>0.762435</td>\n      <td>0.763389</td>\n    </tr>\n    <tr>\n      <th>2021-05-14</th>\n      <td>0.820680</td>\n      <td>0.777246</td>\n      <td>0.757544</td>\n      <td>0.756549</td>\n    </tr>\n    <tr>\n      <th>2021-05-15</th>\n      <td>0.817060</td>\n      <td>0.773584</td>\n      <td>0.755577</td>\n      <td>0.752116</td>\n    </tr>\n    <tr>\n      <th>2021-05-16</th>\n      <td>0.805490</td>\n      <td>0.766416</td>\n      <td>0.749942</td>\n      <td>0.746529</td>\n    </tr>\n    <tr>\n      <th>2021-05-17</th>\n      <td>0.801780</td>\n      <td>0.768545</td>\n      <td>0.743017</td>\n      <td>0.745581</td>\n    </tr>\n    <tr>\n      <th>2021-05-18</th>\n      <td>0.793796</td>\n      <td>0.765254</td>\n      <td>0.731503</td>\n      <td>0.743241</td>\n    </tr>\n    <tr>\n      <th>2021-05-19</th>\n      <td>0.790061</td>\n      <td>0.760850</td>\n      <td>0.728029</td>\n      <td>0.738651</td>\n    </tr>\n    <tr>\n      <th>2021-05-20</th>\n      <td>0.785055</td>\n      <td>0.758934</td>\n      <td>0.731252</td>\n      <td>0.734053</td>\n    </tr>\n    <tr>\n      <th>2021-05-21</th>\n      <td>0.776595</td>\n      <td>0.754646</td>\n      <td>0.722993</td>\n      <td>0.732270</td>\n    </tr>\n    <tr>\n      <th>2021-05-22</th>\n      <td>0.772531</td>\n      <td>0.751489</td>\n      <td>0.718754</td>\n      <td>0.733055</td>\n    </tr>\n    <tr>\n      <th>2021-05-23</th>\n      <td>0.769123</td>\n      <td>0.742032</td>\n      <td>0.710557</td>\n      <td>0.723591</td>\n    </tr>\n    <tr>\n      <th>2021-05-24</th>\n      <td>0.765805</td>\n      <td>0.744015</td>\n      <td>0.710843</td>\n      <td>0.720094</td>\n    </tr>\n    <tr>\n      <th>2021-05-25</th>\n      <td>0.764531</td>\n      <td>0.734680</td>\n      <td>0.714862</td>\n      <td>0.714229</td>\n    </tr>\n    <tr>\n      <th>2021-05-26</th>\n      <td>0.762602</td>\n      <td>0.731962</td>\n      <td>0.715373</td>\n      <td>0.711400</td>\n    </tr>\n    <tr>\n      <th>2021-05-27</th>\n      <td>0.759286</td>\n      <td>0.731768</td>\n      <td>0.715837</td>\n      <td>0.711505</td>\n    </tr>\n    <tr>\n      <th>2021-05-28</th>\n      <td>0.752420</td>\n      <td>0.728234</td>\n      <td>0.705113</td>\n      <td>0.708032</td>\n    </tr>\n    <tr>\n      <th>2021-05-29</th>\n      <td>0.751055</td>\n      <td>0.724097</td>\n      <td>0.703202</td>\n      <td>0.699942</td>\n    </tr>\n    <tr>\n      <th>2021-05-30</th>\n      <td>0.748535</td>\n      <td>0.715075</td>\n      <td>0.701665</td>\n      <td>0.693312</td>\n    </tr>\n    <tr>\n      <th>2021-05-31</th>\n      <td>0.742207</td>\n      <td>0.717725</td>\n      <td>0.701588</td>\n      <td>0.691260</td>\n    </tr>\n  </tbody>\n</table>\n</div>"
     },
     "metadata": {},
     "execution_count": 12
    }
   ],
   "source": [
    "r_t"
   ]
  },
  {
   "cell_type": "code",
   "execution_count": 13,
   "metadata": {},
   "outputs": [],
   "source": [
    "r_t[\"close - open+tests\"] = r_t[\"spring_close_educ_after_easter\"] - r_t[\"spring_educ_open_after_easter_with_tests\"]\n",
    "r_t[\"close - open/no tests\"] = r_t[\"spring_close_educ_after_easter\"] - r_t[\"spring_educ_open_after_easter_without_tests\"]\n",
    "\n"
   ]
  },
  {
   "cell_type": "code",
   "execution_count": 21,
   "metadata": {},
   "outputs": [
    {
     "output_type": "execute_result",
     "data": {
      "text/plain": [
       "spring_educ_open_after_easter_without_tests    0.875\n",
       "spring_educ_open_after_easter_with_tests       0.847\n",
       "spring_close_educ_after_easter                 0.830\n",
       "spring_baseline                                0.830\n",
       "close - open+tests                               NaN\n",
       "close - open/no tests                            NaN\n",
       "dtype: float64"
      ]
     },
     "metadata": {},
     "execution_count": 21
    }
   ],
   "source": [
    "r_t.apply(lambda x: gmean(x)).round(3)"
   ]
  },
  {
   "cell_type": "code",
   "execution_count": 23,
   "metadata": {},
   "outputs": [],
   "source": [
    "infected = pd.read_csv(\"../figures/results/tables/scenario_comparisons/school_scenarios/full_newly_infected.csv\").set_index(\"date\")"
   ]
  },
  {
   "cell_type": "code",
   "execution_count": 29,
   "metadata": {},
   "outputs": [
    {
     "output_type": "execute_result",
     "data": {
      "text/plain": [
       "spring_educ_open_after_easter_without_tests    8642.0\n",
       "spring_educ_open_after_easter_with_tests       7705.0\n",
       "spring_close_educ_after_easter                 7266.0\n",
       "spring_baseline                                7229.0\n",
       "dtype: float64"
      ]
     },
     "metadata": {},
     "execution_count": 29
    }
   ],
   "source": [
    "infected.sum().round(0)"
   ]
  },
  {
   "cell_type": "code",
   "execution_count": 32,
   "metadata": {},
   "outputs": [
    {
     "output_type": "execute_result",
     "data": {
      "text/plain": [
       "0.07"
      ]
     },
     "metadata": {},
     "execution_count": 32
    }
   ],
   "source": [
    "np.round((7705-7229)/7229, 2)"
   ]
  },
  {
   "cell_type": "code",
   "execution_count": 31,
   "metadata": {},
   "outputs": [
    {
     "output_type": "execute_result",
     "data": {
      "text/plain": [
       "0.2"
      ]
     },
     "metadata": {},
     "execution_count": 31
    }
   ],
   "source": [
    "np.round((8642-7229)/7229, 2)"
   ]
  },
  {
   "cell_type": "code",
   "execution_count": null,
   "metadata": {},
   "outputs": [],
   "source": []
  }
 ]
}