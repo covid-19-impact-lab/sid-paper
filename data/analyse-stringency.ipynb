{
 "metadata": {
  "language_info": {
   "codemirror_mode": {
    "name": "ipython",
    "version": 3
   },
   "file_extension": ".py",
   "mimetype": "text/x-python",
   "name": "python",
   "nbconvert_exporter": "python",
   "pygments_lexer": "ipython3",
   "version": "3.7.9"
  },
  "orig_nbformat": 2,
  "kernelspec": {
   "name": "python379jvsc74a57bd02b260c2df92c3a2ab9dcbca80fa14df5808685a14f8898a0008330ef80dd47dd",
   "display_name": "Python 3.7.9 64-bit (conda)"
  },
  "metadata": {
   "interpreter": {
    "hash": "2b260c2df92c3a2ab9dcbca80fa14df5808685a14f8898a0008330ef80dd47dd"
   }
  }
 },
 "nbformat": 4,
 "nbformat_minor": 2,
 "cells": [
  {
   "cell_type": "code",
   "execution_count": 1,
   "metadata": {},
   "outputs": [],
   "source": [
    "import pandas as pd\n",
    "\n",
    "pd.set_option(\"display.max_rows\", 1000)"
   ]
  },
  {
   "cell_type": "code",
   "execution_count": 2,
   "metadata": {},
   "outputs": [
    {
     "output_type": "stream",
     "name": "stderr",
     "text": [
      "/home/hmg/miniconda3/envs/liss-data/lib/python3.7/site-packages/IPython/core/interactiveshell.py:3147: DtypeWarning: Columns (2,3) have mixed types.Specify dtype option on import or set low_memory=False.\n  interactivity=interactivity, compiler=compiler, result=result)\n"
     ]
    },
    {
     "output_type": "execute_result",
     "data": {
      "text/plain": [
       "           CountryName CountryCode RegionName RegionCode Jurisdiction  \\\n",
       "Date                                                                    \n",
       "2020-01-01     Germany         DEU        NaN        NaN    NAT_TOTAL   \n",
       "2020-01-02     Germany         DEU        NaN        NaN    NAT_TOTAL   \n",
       "2020-01-03     Germany         DEU        NaN        NaN    NAT_TOTAL   \n",
       "2020-01-04     Germany         DEU        NaN        NaN    NAT_TOTAL   \n",
       "2020-01-05     Germany         DEU        NaN        NaN    NAT_TOTAL   \n",
       "\n",
       "            C1_School closing  C1_Flag  C2_Workplace closing  C2_Flag  \\\n",
       "Date                                                                    \n",
       "2020-01-01                0.0      NaN                   0.0      NaN   \n",
       "2020-01-02                0.0      NaN                   0.0      NaN   \n",
       "2020-01-03                0.0      NaN                   0.0      NaN   \n",
       "2020-01-04                0.0      NaN                   0.0      NaN   \n",
       "2020-01-05                0.0      NaN                   0.0      NaN   \n",
       "\n",
       "            C3_Cancel public events  ...  StringencyIndex  \\\n",
       "Date                                 ...                    \n",
       "2020-01-01                      0.0  ...              0.0   \n",
       "2020-01-02                      0.0  ...              0.0   \n",
       "2020-01-03                      0.0  ...              0.0   \n",
       "2020-01-04                      0.0  ...              0.0   \n",
       "2020-01-05                      0.0  ...              0.0   \n",
       "\n",
       "            StringencyIndexForDisplay  StringencyLegacyIndex  \\\n",
       "Date                                                           \n",
       "2020-01-01                        0.0                    0.0   \n",
       "2020-01-02                        0.0                    0.0   \n",
       "2020-01-03                        0.0                    0.0   \n",
       "2020-01-04                        0.0                    0.0   \n",
       "2020-01-05                        0.0                    0.0   \n",
       "\n",
       "            StringencyLegacyIndexForDisplay  GovernmentResponseIndex  \\\n",
       "Date                                                                   \n",
       "2020-01-01                              0.0                      0.0   \n",
       "2020-01-02                              0.0                      0.0   \n",
       "2020-01-03                              0.0                      0.0   \n",
       "2020-01-04                              0.0                      0.0   \n",
       "2020-01-05                              0.0                      0.0   \n",
       "\n",
       "            GovernmentResponseIndexForDisplay  ContainmentHealthIndex  \\\n",
       "Date                                                                    \n",
       "2020-01-01                                0.0                     0.0   \n",
       "2020-01-02                                0.0                     0.0   \n",
       "2020-01-03                                0.0                     0.0   \n",
       "2020-01-04                                0.0                     0.0   \n",
       "2020-01-05                                0.0                     0.0   \n",
       "\n",
       "            ContainmentHealthIndexForDisplay  EconomicSupportIndex  \\\n",
       "Date                                                                 \n",
       "2020-01-01                               0.0                   0.0   \n",
       "2020-01-02                               0.0                   0.0   \n",
       "2020-01-03                               0.0                   0.0   \n",
       "2020-01-04                               0.0                   0.0   \n",
       "2020-01-05                               0.0                   0.0   \n",
       "\n",
       "            EconomicSupportIndexForDisplay  \n",
       "Date                                        \n",
       "2020-01-01                             0.0  \n",
       "2020-01-02                             0.0  \n",
       "2020-01-03                             0.0  \n",
       "2020-01-04                             0.0  \n",
       "2020-01-05                             0.0  \n",
       "\n",
       "[5 rows x 50 columns]"
      ],
      "text/html": "<div>\n<style scoped>\n    .dataframe tbody tr th:only-of-type {\n        vertical-align: middle;\n    }\n\n    .dataframe tbody tr th {\n        vertical-align: top;\n    }\n\n    .dataframe thead th {\n        text-align: right;\n    }\n</style>\n<table border=\"1\" class=\"dataframe\">\n  <thead>\n    <tr style=\"text-align: right;\">\n      <th></th>\n      <th>CountryName</th>\n      <th>CountryCode</th>\n      <th>RegionName</th>\n      <th>RegionCode</th>\n      <th>Jurisdiction</th>\n      <th>C1_School closing</th>\n      <th>C1_Flag</th>\n      <th>C2_Workplace closing</th>\n      <th>C2_Flag</th>\n      <th>C3_Cancel public events</th>\n      <th>...</th>\n      <th>StringencyIndex</th>\n      <th>StringencyIndexForDisplay</th>\n      <th>StringencyLegacyIndex</th>\n      <th>StringencyLegacyIndexForDisplay</th>\n      <th>GovernmentResponseIndex</th>\n      <th>GovernmentResponseIndexForDisplay</th>\n      <th>ContainmentHealthIndex</th>\n      <th>ContainmentHealthIndexForDisplay</th>\n      <th>EconomicSupportIndex</th>\n      <th>EconomicSupportIndexForDisplay</th>\n    </tr>\n    <tr>\n      <th>Date</th>\n      <th></th>\n      <th></th>\n      <th></th>\n      <th></th>\n      <th></th>\n      <th></th>\n      <th></th>\n      <th></th>\n      <th></th>\n      <th></th>\n      <th></th>\n      <th></th>\n      <th></th>\n      <th></th>\n      <th></th>\n      <th></th>\n      <th></th>\n      <th></th>\n      <th></th>\n      <th></th>\n      <th></th>\n    </tr>\n  </thead>\n  <tbody>\n    <tr>\n      <th>2020-01-01</th>\n      <td>Germany</td>\n      <td>DEU</td>\n      <td>NaN</td>\n      <td>NaN</td>\n      <td>NAT_TOTAL</td>\n      <td>0.0</td>\n      <td>NaN</td>\n      <td>0.0</td>\n      <td>NaN</td>\n      <td>0.0</td>\n      <td>...</td>\n      <td>0.0</td>\n      <td>0.0</td>\n      <td>0.0</td>\n      <td>0.0</td>\n      <td>0.0</td>\n      <td>0.0</td>\n      <td>0.0</td>\n      <td>0.0</td>\n      <td>0.0</td>\n      <td>0.0</td>\n    </tr>\n    <tr>\n      <th>2020-01-02</th>\n      <td>Germany</td>\n      <td>DEU</td>\n      <td>NaN</td>\n      <td>NaN</td>\n      <td>NAT_TOTAL</td>\n      <td>0.0</td>\n      <td>NaN</td>\n      <td>0.0</td>\n      <td>NaN</td>\n      <td>0.0</td>\n      <td>...</td>\n      <td>0.0</td>\n      <td>0.0</td>\n      <td>0.0</td>\n      <td>0.0</td>\n      <td>0.0</td>\n      <td>0.0</td>\n      <td>0.0</td>\n      <td>0.0</td>\n      <td>0.0</td>\n      <td>0.0</td>\n    </tr>\n    <tr>\n      <th>2020-01-03</th>\n      <td>Germany</td>\n      <td>DEU</td>\n      <td>NaN</td>\n      <td>NaN</td>\n      <td>NAT_TOTAL</td>\n      <td>0.0</td>\n      <td>NaN</td>\n      <td>0.0</td>\n      <td>NaN</td>\n      <td>0.0</td>\n      <td>...</td>\n      <td>0.0</td>\n      <td>0.0</td>\n      <td>0.0</td>\n      <td>0.0</td>\n      <td>0.0</td>\n      <td>0.0</td>\n      <td>0.0</td>\n      <td>0.0</td>\n      <td>0.0</td>\n      <td>0.0</td>\n    </tr>\n    <tr>\n      <th>2020-01-04</th>\n      <td>Germany</td>\n      <td>DEU</td>\n      <td>NaN</td>\n      <td>NaN</td>\n      <td>NAT_TOTAL</td>\n      <td>0.0</td>\n      <td>NaN</td>\n      <td>0.0</td>\n      <td>NaN</td>\n      <td>0.0</td>\n      <td>...</td>\n      <td>0.0</td>\n      <td>0.0</td>\n      <td>0.0</td>\n      <td>0.0</td>\n      <td>0.0</td>\n      <td>0.0</td>\n      <td>0.0</td>\n      <td>0.0</td>\n      <td>0.0</td>\n      <td>0.0</td>\n    </tr>\n    <tr>\n      <th>2020-01-05</th>\n      <td>Germany</td>\n      <td>DEU</td>\n      <td>NaN</td>\n      <td>NaN</td>\n      <td>NAT_TOTAL</td>\n      <td>0.0</td>\n      <td>NaN</td>\n      <td>0.0</td>\n      <td>NaN</td>\n      <td>0.0</td>\n      <td>...</td>\n      <td>0.0</td>\n      <td>0.0</td>\n      <td>0.0</td>\n      <td>0.0</td>\n      <td>0.0</td>\n      <td>0.0</td>\n      <td>0.0</td>\n      <td>0.0</td>\n      <td>0.0</td>\n      <td>0.0</td>\n    </tr>\n  </tbody>\n</table>\n<p>5 rows × 50 columns</p>\n</div>"
     },
     "metadata": {},
     "execution_count": 2
    }
   ],
   "source": [
    "d = pd.read_csv(\"OxCGRT_2021-06-07.csv\").query(\"CountryName == 'Germany'\")\n",
    "d[\"Date\"] = pd.to_datetime(d[\"Date\"], format=\"%Y%m%d\")\n",
    "d = d.set_index(\"Date\")\n",
    "d.head()"
   ]
  },
  {
   "cell_type": "code",
   "execution_count": 3,
   "metadata": {},
   "outputs": [],
   "source": [
    "d = d.loc[\"2020-09-01\":\"2021-05-31\"]"
   ]
  },
  {
   "cell_type": "code",
   "execution_count": 4,
   "metadata": {},
   "outputs": [
    {
     "output_type": "stream",
     "name": "stdout",
     "text": [
      "CountryName\nCountryCode\nRegionName\nRegionCode\nJurisdiction\nC1_School closing\nC1_Flag\nC2_Workplace closing\nC2_Flag\nC3_Cancel public events\nC3_Flag\nC4_Restrictions on gatherings\nC4_Flag\nC5_Close public transport\nC5_Flag\nC6_Stay at home requirements\nC6_Flag\nC7_Restrictions on internal movement\nC7_Flag\nC8_International travel controls\nE1_Income support\nE1_Flag\nE2_Debt/contract relief\nE3_Fiscal measures\nE4_International support\nH1_Public information campaigns\nH1_Flag\nH2_Testing policy\nH3_Contact tracing\nH4_Emergency investment in healthcare\nH5_Investment in vaccines\nH6_Facial Coverings\nH6_Flag\nH7_Vaccination policy\nH7_Flag\nH8_Protection of elderly people\nH8_Flag\nM1_Wildcard\nConfirmedCases\nConfirmedDeaths\nStringencyIndex\nStringencyIndexForDisplay\nStringencyLegacyIndex\nStringencyLegacyIndexForDisplay\nGovernmentResponseIndex\nGovernmentResponseIndexForDisplay\nContainmentHealthIndex\nContainmentHealthIndexForDisplay\nEconomicSupportIndex\nEconomicSupportIndexForDisplay\n"
     ]
    }
   ],
   "source": [
    "print(*d.columns, sep=\"\\n\")"
   ]
  },
  {
   "cell_type": "code",
   "execution_count": 5,
   "metadata": {},
   "outputs": [
    {
     "output_type": "execute_result",
     "data": {
      "text/plain": [
       "            Schools  Workplace  Public events  Gatherings  Public transport  \\\n",
       "Date                                                                          \n",
       "2020-09-01        2          2              2           4                 0   \n",
       "2020-09-02        2          2              2           4                 0   \n",
       "2020-09-03        1          2              2           4                 0   \n",
       "2020-09-04        1          2              2           4                 0   \n",
       "2020-09-05        1          2              2           4                 0   \n",
       "\n",
       "            Stay at home  Internal movement  Int'l travel  StringencyIndex  \\\n",
       "Date                                                                         \n",
       "2020-09-01             0                  2             3            59.72   \n",
       "2020-09-02             0                  2             3            59.72   \n",
       "2020-09-03             0                  2             3            57.87   \n",
       "2020-09-04             0                  0             3            49.54   \n",
       "2020-09-05             0                  0             3            49.54   \n",
       "\n",
       "            LagStringencyIndex  \n",
       "Date                            \n",
       "2020-09-01                 NaN  \n",
       "2020-09-02               59.72  \n",
       "2020-09-03               59.72  \n",
       "2020-09-04               57.87  \n",
       "2020-09-05               49.54  "
      ],
      "text/html": "<div>\n<style scoped>\n    .dataframe tbody tr th:only-of-type {\n        vertical-align: middle;\n    }\n\n    .dataframe tbody tr th {\n        vertical-align: top;\n    }\n\n    .dataframe thead th {\n        text-align: right;\n    }\n</style>\n<table border=\"1\" class=\"dataframe\">\n  <thead>\n    <tr style=\"text-align: right;\">\n      <th></th>\n      <th>Schools</th>\n      <th>Workplace</th>\n      <th>Public events</th>\n      <th>Gatherings</th>\n      <th>Public transport</th>\n      <th>Stay at home</th>\n      <th>Internal movement</th>\n      <th>Int'l travel</th>\n      <th>StringencyIndex</th>\n      <th>LagStringencyIndex</th>\n    </tr>\n    <tr>\n      <th>Date</th>\n      <th></th>\n      <th></th>\n      <th></th>\n      <th></th>\n      <th></th>\n      <th></th>\n      <th></th>\n      <th></th>\n      <th></th>\n      <th></th>\n    </tr>\n  </thead>\n  <tbody>\n    <tr>\n      <th>2020-09-01</th>\n      <td>2</td>\n      <td>2</td>\n      <td>2</td>\n      <td>4</td>\n      <td>0</td>\n      <td>0</td>\n      <td>2</td>\n      <td>3</td>\n      <td>59.72</td>\n      <td>NaN</td>\n    </tr>\n    <tr>\n      <th>2020-09-02</th>\n      <td>2</td>\n      <td>2</td>\n      <td>2</td>\n      <td>4</td>\n      <td>0</td>\n      <td>0</td>\n      <td>2</td>\n      <td>3</td>\n      <td>59.72</td>\n      <td>59.72</td>\n    </tr>\n    <tr>\n      <th>2020-09-03</th>\n      <td>1</td>\n      <td>2</td>\n      <td>2</td>\n      <td>4</td>\n      <td>0</td>\n      <td>0</td>\n      <td>2</td>\n      <td>3</td>\n      <td>57.87</td>\n      <td>59.72</td>\n    </tr>\n    <tr>\n      <th>2020-09-04</th>\n      <td>1</td>\n      <td>2</td>\n      <td>2</td>\n      <td>4</td>\n      <td>0</td>\n      <td>0</td>\n      <td>0</td>\n      <td>3</td>\n      <td>49.54</td>\n      <td>57.87</td>\n    </tr>\n    <tr>\n      <th>2020-09-05</th>\n      <td>1</td>\n      <td>2</td>\n      <td>2</td>\n      <td>4</td>\n      <td>0</td>\n      <td>0</td>\n      <td>0</td>\n      <td>3</td>\n      <td>49.54</td>\n      <td>49.54</td>\n    </tr>\n  </tbody>\n</table>\n</div>"
     },
     "metadata": {},
     "execution_count": 5
    }
   ],
   "source": [
    "d = d[[\"C1_School closing\", \"C2_Workplace closing\", \"C3_Cancel public events\", \"C4_Restrictions on gatherings\", \"C5_Close public transport\", \"C6_Stay at home requirements\", \"C7_Restrictions on internal movement\", \"C8_International travel controls\", \"StringencyIndex\"]]\n",
    "d = d.rename(columns={\n",
    "    \"C1_School closing\": \"Schools\",\n",
    "    \"C2_Workplace closing\": \"Workplace\",\n",
    "    \"C3_Cancel public events\": \"Public events\",\n",
    "    \"C4_Restrictions on gatherings\": \"Gatherings\",\n",
    "    \"C5_Close public transport\": \"Public transport\",\n",
    "    \"C6_Stay at home requirements\": \"Stay at home\",\n",
    "    \"C7_Restrictions on internal movement\": \"Internal movement\",\n",
    "    \"C8_International travel controls\": \"Int'l travel\",\n",
    "})\n",
    "for c in [\n",
    "    \"Schools\",\n",
    "    \"Workplace\",\n",
    "    \"Public events\",\n",
    "    \"Gatherings\",\n",
    "    \"Public transport\",\n",
    "    \"Stay at home\",\n",
    "    \"Internal movement\",\n",
    "    \"Int'l travel\",\n",
    "]:\n",
    "    d[c] = d[c].astype(int)\n",
    "d[\"LagStringencyIndex\"] = d[\"StringencyIndex\"].shift(1)\n",
    "d.head()"
   ]
  },
  {
   "cell_type": "code",
   "execution_count": 6,
   "metadata": {},
   "outputs": [
    {
     "output_type": "execute_result",
     "data": {
      "text/plain": [
       "            Schools  Workplace  Public events  Gatherings  Public transport  \\\n",
       "Date                                                                          \n",
       "2020-09-03        1          2              2           4                 0   \n",
       "2020-09-04        1          2              2           4                 0   \n",
       "2020-10-15        1          2              2           4                 0   \n",
       "2020-10-22        1          2              2           4                 0   \n",
       "2020-11-02        1          2              2           4                 0   \n",
       "2020-11-30        1          2              2           4                 1   \n",
       "2020-12-15        3          2              2           4                 1   \n",
       "2020-12-16        3          3              2           4                 1   \n",
       "2021-01-05        3          3              2           4                 1   \n",
       "2021-01-10        3          3              2           4                 1   \n",
       "2021-02-22        3          3              2           4                 1   \n",
       "2021-03-01        3          2              2           4                 1   \n",
       "2021-03-20        3          2              2           4                 1   \n",
       "\n",
       "            Stay at home  Internal movement  Int'l travel  StringencyIndex  \\\n",
       "Date                                                                         \n",
       "2020-09-03             0                  2             3            57.87   \n",
       "2020-09-04             0                  0             3            49.54   \n",
       "2020-10-15             1                  1             3            58.80   \n",
       "2020-10-22             2                  1             3            60.65   \n",
       "2020-11-02             1                  1             3            62.04   \n",
       "2020-11-30             1                  1             3            67.59   \n",
       "2020-12-15             1                  1             3            75.00   \n",
       "2020-12-16             2                  1             3            82.41   \n",
       "2021-01-05             2                  2             3            85.19   \n",
       "2021-01-10             2                  2             3            83.33   \n",
       "2021-02-22             2                  2             3            81.48   \n",
       "2021-03-01             2                  2             3            77.78   \n",
       "2021-03-20             2                  1             3            75.00   \n",
       "\n",
       "            LagStringencyIndex  \n",
       "Date                            \n",
       "2020-09-03               59.72  \n",
       "2020-09-04               57.87  \n",
       "2020-10-15               49.54  \n",
       "2020-10-22               58.80  \n",
       "2020-11-02               60.65  \n",
       "2020-11-30               62.04  \n",
       "2020-12-15               67.59  \n",
       "2020-12-16               75.00  \n",
       "2021-01-05               82.41  \n",
       "2021-01-10               85.19  \n",
       "2021-02-22               83.33  \n",
       "2021-03-01               81.48  \n",
       "2021-03-20               77.78  "
      ],
      "text/html": "<div>\n<style scoped>\n    .dataframe tbody tr th:only-of-type {\n        vertical-align: middle;\n    }\n\n    .dataframe tbody tr th {\n        vertical-align: top;\n    }\n\n    .dataframe thead th {\n        text-align: right;\n    }\n</style>\n<table border=\"1\" class=\"dataframe\">\n  <thead>\n    <tr style=\"text-align: right;\">\n      <th></th>\n      <th>Schools</th>\n      <th>Workplace</th>\n      <th>Public events</th>\n      <th>Gatherings</th>\n      <th>Public transport</th>\n      <th>Stay at home</th>\n      <th>Internal movement</th>\n      <th>Int'l travel</th>\n      <th>StringencyIndex</th>\n      <th>LagStringencyIndex</th>\n    </tr>\n    <tr>\n      <th>Date</th>\n      <th></th>\n      <th></th>\n      <th></th>\n      <th></th>\n      <th></th>\n      <th></th>\n      <th></th>\n      <th></th>\n      <th></th>\n      <th></th>\n    </tr>\n  </thead>\n  <tbody>\n    <tr>\n      <th>2020-09-03</th>\n      <td>1</td>\n      <td>2</td>\n      <td>2</td>\n      <td>4</td>\n      <td>0</td>\n      <td>0</td>\n      <td>2</td>\n      <td>3</td>\n      <td>57.87</td>\n      <td>59.72</td>\n    </tr>\n    <tr>\n      <th>2020-09-04</th>\n      <td>1</td>\n      <td>2</td>\n      <td>2</td>\n      <td>4</td>\n      <td>0</td>\n      <td>0</td>\n      <td>0</td>\n      <td>3</td>\n      <td>49.54</td>\n      <td>57.87</td>\n    </tr>\n    <tr>\n      <th>2020-10-15</th>\n      <td>1</td>\n      <td>2</td>\n      <td>2</td>\n      <td>4</td>\n      <td>0</td>\n      <td>1</td>\n      <td>1</td>\n      <td>3</td>\n      <td>58.80</td>\n      <td>49.54</td>\n    </tr>\n    <tr>\n      <th>2020-10-22</th>\n      <td>1</td>\n      <td>2</td>\n      <td>2</td>\n      <td>4</td>\n      <td>0</td>\n      <td>2</td>\n      <td>1</td>\n      <td>3</td>\n      <td>60.65</td>\n      <td>58.80</td>\n    </tr>\n    <tr>\n      <th>2020-11-02</th>\n      <td>1</td>\n      <td>2</td>\n      <td>2</td>\n      <td>4</td>\n      <td>0</td>\n      <td>1</td>\n      <td>1</td>\n      <td>3</td>\n      <td>62.04</td>\n      <td>60.65</td>\n    </tr>\n    <tr>\n      <th>2020-11-30</th>\n      <td>1</td>\n      <td>2</td>\n      <td>2</td>\n      <td>4</td>\n      <td>1</td>\n      <td>1</td>\n      <td>1</td>\n      <td>3</td>\n      <td>67.59</td>\n      <td>62.04</td>\n    </tr>\n    <tr>\n      <th>2020-12-15</th>\n      <td>3</td>\n      <td>2</td>\n      <td>2</td>\n      <td>4</td>\n      <td>1</td>\n      <td>1</td>\n      <td>1</td>\n      <td>3</td>\n      <td>75.00</td>\n      <td>67.59</td>\n    </tr>\n    <tr>\n      <th>2020-12-16</th>\n      <td>3</td>\n      <td>3</td>\n      <td>2</td>\n      <td>4</td>\n      <td>1</td>\n      <td>2</td>\n      <td>1</td>\n      <td>3</td>\n      <td>82.41</td>\n      <td>75.00</td>\n    </tr>\n    <tr>\n      <th>2021-01-05</th>\n      <td>3</td>\n      <td>3</td>\n      <td>2</td>\n      <td>4</td>\n      <td>1</td>\n      <td>2</td>\n      <td>2</td>\n      <td>3</td>\n      <td>85.19</td>\n      <td>82.41</td>\n    </tr>\n    <tr>\n      <th>2021-01-10</th>\n      <td>3</td>\n      <td>3</td>\n      <td>2</td>\n      <td>4</td>\n      <td>1</td>\n      <td>2</td>\n      <td>2</td>\n      <td>3</td>\n      <td>83.33</td>\n      <td>85.19</td>\n    </tr>\n    <tr>\n      <th>2021-02-22</th>\n      <td>3</td>\n      <td>3</td>\n      <td>2</td>\n      <td>4</td>\n      <td>1</td>\n      <td>2</td>\n      <td>2</td>\n      <td>3</td>\n      <td>81.48</td>\n      <td>83.33</td>\n    </tr>\n    <tr>\n      <th>2021-03-01</th>\n      <td>3</td>\n      <td>2</td>\n      <td>2</td>\n      <td>4</td>\n      <td>1</td>\n      <td>2</td>\n      <td>2</td>\n      <td>3</td>\n      <td>77.78</td>\n      <td>81.48</td>\n    </tr>\n    <tr>\n      <th>2021-03-20</th>\n      <td>3</td>\n      <td>2</td>\n      <td>2</td>\n      <td>4</td>\n      <td>1</td>\n      <td>2</td>\n      <td>1</td>\n      <td>3</td>\n      <td>75.00</td>\n      <td>77.78</td>\n    </tr>\n  </tbody>\n</table>\n</div>"
     },
     "metadata": {},
     "execution_count": 6
    }
   ],
   "source": [
    "d.query(\"StringencyIndex != LagStringencyIndex\").iloc[1:]"
   ]
  },
  {
   "cell_type": "code",
   "execution_count": null,
   "metadata": {},
   "outputs": [],
   "source": []
  }
 ]
}