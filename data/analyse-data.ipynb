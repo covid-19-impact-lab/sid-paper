{
 "metadata": {
  "language_info": {
   "codemirror_mode": {
    "name": "ipython",
    "version": 3
   },
   "file_extension": ".py",
   "mimetype": "text/x-python",
   "name": "python",
   "nbconvert_exporter": "python",
   "pygments_lexer": "ipython3",
   "version": "3.7.9"
  },
  "orig_nbformat": 2,
  "kernelspec": {
   "name": "python379jvsc74a57bd02b260c2df92c3a2ab9dcbca80fa14df5808685a14f8898a0008330ef80dd47dd",
   "display_name": "Python 3.7.9 64-bit ('liss-data': conda)"
  },
  "metadata": {
   "interpreter": {
    "hash": "2b260c2df92c3a2ab9dcbca80fa14df5808685a14f8898a0008330ef80dd47dd"
   }
  }
 },
 "nbformat": 4,
 "nbformat_minor": 2,
 "cells": [
  {
   "cell_type": "code",
   "execution_count": null,
   "metadata": {},
   "outputs": [],
   "source": [
    "import pandas as pd\n",
    "import numpy as np\n",
    "\n",
    "pd.set_option(\"display.max_rows\", 1000)"
   ]
  },
  {
   "cell_type": "code",
   "execution_count": null,
   "metadata": {},
   "outputs": [],
   "source": [
    "emp = pd.read_csv(\"../figures/results/tables/empirical_analogues.csv\")\n",
    "emp[\"date\"] = pd.to_datetime(emp[\"date\"], format=\"%Y-%m-%d\")\n",
    "emp = emp.set_index(\"date\")\n",
    "emp.head()"
   ]
  },
  {
   "cell_type": "code",
   "execution_count": null,
   "metadata": {},
   "outputs": [],
   "source": [
    "emp.loc[\"2021-04\":, \"new_known_case\"].plot()"
   ]
  },
  {
   "cell_type": "code",
   "execution_count": null,
   "metadata": {},
   "outputs": [],
   "source": [
    "date_max_wave_3 = emp.loc[\"2021-04\":, \"new_known_case\"].idxmax()\n",
    "date_max_wave_3 = emp.loc[\"2021-05-01\":].index[0]\n",
    "max_wave_3 = emp.loc[date_max_wave_3, \"new_known_case\"]\n",
    "end_may = emp.loc[\"2021-05-31\", \"new_known_case\"]\n",
    "print(date_max_wave_3, ':', max_wave_3, \"End of May:\", end_may)\n",
    "print(\"Reduction: \", np.round((max_wave_3 - end_may) / max_wave_3, 2))"
   ]
  },
  {
   "cell_type": "code",
   "execution_count": null,
   "metadata": {},
   "outputs": [],
   "source": [
    "date_mid_sep = emp.loc[\"2020-09-15\":].index[0]\n",
    "date_end_oct = emp.loc[\"2020-11-03\":].index[0]\n",
    "print(date_end_oct - date_mid_sep)\n",
    "mid_sep = emp.loc[date_mid_sep, \"new_known_case\"]\n",
    "end_oct = emp.loc[date_end_oct, \"new_known_case\"]\n",
    "print(date_mid_sep, ':', mid_sep, date_end_oct, end_oct)\n",
    "print(\"Factor \", np.round(end_oct / mid_sep, 2))"
   ]
  },
  {
   "cell_type": "code",
   "execution_count": null,
   "metadata": {},
   "outputs": [],
   "source": [
    "emp.loc[\"2021-05-01\":]"
   ]
  },
  {
   "cell_type": "code",
   "execution_count": null,
   "metadata": {},
   "outputs": [],
   "source": []
  }
 ]
}